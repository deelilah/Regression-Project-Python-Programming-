{
  "nbformat": 4,
  "nbformat_minor": 0,
  "metadata": {
    "colab": {
      "name": "6",
      "provenance": [],
      "collapsed_sections": [],
      "toc_visible": true,
      "authorship_tag": "ABX9TyMpu/+VtARzmUHU4CFOLH9L",
      "include_colab_link": true
    },
    "kernelspec": {
      "name": "python3",
      "display_name": "Python 3"
    }
  },
  "cells": [
    {
      "cell_type": "markdown",
      "metadata": {
        "id": "view-in-github",
        "colab_type": "text"
      },
      "source": [
        "<a href=\"https://colab.research.google.com/github/deelilah/Supervised-Learning-Test-1/blob/master/6.ipynb\" target=\"_parent\"><img src=\"https://colab.research.google.com/assets/colab-badge.svg\" alt=\"Open In Colab\"/></a>"
      ]
    },
    {
      "cell_type": "markdown",
      "metadata": {
        "id": "pRQQMes4yt5-",
        "colab_type": "text"
      },
      "source": [
        "## **Supervised Learning with Exploratory Data Analysis**"
      ]
    },
    {
      "cell_type": "markdown",
      "metadata": {
        "id": "CRcqYTKZy4Fw",
        "colab_type": "text"
      },
      "source": [
        "# a.) **Defining the Question**\n",
        "\n",
        "As a football analyst in a company i was requested to analyse - Mchezopesa Ltd football team and tasked to accomplish the task below.\n",
        "\n",
        "A prediction result of a game between team 1 and team 2, based on who's home and who's away. \n",
        "\n",
        "And whether or not the game is friendly (include rank in your training).\n",
        "\n",
        "\n",
        "\n",
        "# b.**) Metric of Success**\n",
        "\n",
        "The metric of success will be accomplished when i am able to give adequate result of the game between the two teams based on who is home and away.Furthermore show if the scores are for the friendly or real match. and the scores by each team.\n",
        "\n",
        "# c.) **Understanding the context**\n",
        "The new model for calculating the FIFA/Coca-Cola World Ranking (FWR) was developed over two years\n",
        "during which time a large number of different algorithms was tested and extensively discussed.\n",
        "Throughout this review and consultation process, the main aim was to identify an algorithm that is not\n",
        "only intuitive, easy to understand and improves overall accuracy of the formula, but also addresses\n",
        "feedback received about the previous model and provides fair and equal opportunities for all teams\n",
        "across all confederations to ascend the FWR.\n",
        "\n",
        "\n",
        "\n",
        "\n",
        "# d.) **Record the Experiment Design**\n",
        "\n",
        "\n",
        "Data Cleaning\n",
        "\n",
        "Exploratory Data Analysis\n",
        "\n",
        "Perform your EDA\n",
        "\n",
        "Perform any necessary feature engineering \n",
        "\n",
        "Check of multicollinearity\n",
        "\n",
        "Start building the model\n",
        "\n",
        "Cross-validate the model\n",
        "\n",
        "Compute RMSE\n",
        "\n",
        "Create residual plots for your models, and assess their \n",
        "heteroscedasticity using Bartlett’s test\n",
        "\n",
        "# Data Relevance\n",
        "The data was enough but its documentation was shallow,it didnt describe all variables and this brought about some challenges.\n",
        "\n",
        "\n"
      ]
    },
    {
      "cell_type": "markdown",
      "metadata": {
        "id": "iF63QugiMh4J",
        "colab_type": "text"
      },
      "source": [
        "# 1.0 DATA CLEANING AND PREPARATION"
      ]
    },
    {
      "cell_type": "markdown",
      "metadata": {
        "id": "lcitVEDg7W9-",
        "colab_type": "text"
      },
      "source": [
        "# 1.1 Importing Libraries and Reading Data"
      ]
    },
    {
      "cell_type": "code",
      "metadata": {
        "id": "8Iiks7j37Rxv",
        "colab_type": "code",
        "colab": {}
      },
      "source": [
        "#importing Data\n",
        "import pandas as pd\n",
        "import numpy as np\n",
        "import sklearn\n",
        "import seaborn as sns\n",
        "import matplotlib.pyplot as plt"
      ],
      "execution_count": 0,
      "outputs": []
    },
    {
      "cell_type": "markdown",
      "metadata": {
        "id": "wQ6AZJw01EXC",
        "colab_type": "text"
      },
      "source": [
        "# 1.2 Reading the data"
      ]
    },
    {
      "cell_type": "code",
      "metadata": {
        "id": "nZnFWHW38dob",
        "colab_type": "code",
        "outputId": "c0d0ead3-fa4c-45b3-aa40-8cc333836d4b",
        "colab": {
          "base_uri": "https://localhost:8080/",
          "height": 439
        }
      },
      "source": [
        "#reading the first dataset\n",
        "fifa=pd.read_csv('fifa_ranking.csv')\n",
        "fifa"
      ],
      "execution_count": 0,
      "outputs": [
        {
          "output_type": "execute_result",
          "data": {
            "text/html": [
              "<div>\n",
              "<style scoped>\n",
              "    .dataframe tbody tr th:only-of-type {\n",
              "        vertical-align: middle;\n",
              "    }\n",
              "\n",
              "    .dataframe tbody tr th {\n",
              "        vertical-align: top;\n",
              "    }\n",
              "\n",
              "    .dataframe thead th {\n",
              "        text-align: right;\n",
              "    }\n",
              "</style>\n",
              "<table border=\"1\" class=\"dataframe\">\n",
              "  <thead>\n",
              "    <tr style=\"text-align: right;\">\n",
              "      <th></th>\n",
              "      <th>rank</th>\n",
              "      <th>country_full</th>\n",
              "      <th>country_abrv</th>\n",
              "      <th>total_points</th>\n",
              "      <th>previous_points</th>\n",
              "      <th>rank_change</th>\n",
              "      <th>cur_year_avg</th>\n",
              "      <th>cur_year_avg_weighted</th>\n",
              "      <th>last_year_avg</th>\n",
              "      <th>last_year_avg_weighted</th>\n",
              "      <th>two_year_ago_avg</th>\n",
              "      <th>two_year_ago_weighted</th>\n",
              "      <th>three_year_ago_avg</th>\n",
              "      <th>three_year_ago_weighted</th>\n",
              "      <th>confederation</th>\n",
              "      <th>rank_date</th>\n",
              "    </tr>\n",
              "  </thead>\n",
              "  <tbody>\n",
              "    <tr>\n",
              "      <th>0</th>\n",
              "      <td>1</td>\n",
              "      <td>Germany</td>\n",
              "      <td>GER</td>\n",
              "      <td>0.0</td>\n",
              "      <td>57</td>\n",
              "      <td>0</td>\n",
              "      <td>0.0</td>\n",
              "      <td>0.0</td>\n",
              "      <td>0.0</td>\n",
              "      <td>0.0</td>\n",
              "      <td>0.0</td>\n",
              "      <td>0.0</td>\n",
              "      <td>0.0</td>\n",
              "      <td>0.0</td>\n",
              "      <td>UEFA</td>\n",
              "      <td>1993-08-08</td>\n",
              "    </tr>\n",
              "    <tr>\n",
              "      <th>1</th>\n",
              "      <td>2</td>\n",
              "      <td>Italy</td>\n",
              "      <td>ITA</td>\n",
              "      <td>0.0</td>\n",
              "      <td>57</td>\n",
              "      <td>0</td>\n",
              "      <td>0.0</td>\n",
              "      <td>0.0</td>\n",
              "      <td>0.0</td>\n",
              "      <td>0.0</td>\n",
              "      <td>0.0</td>\n",
              "      <td>0.0</td>\n",
              "      <td>0.0</td>\n",
              "      <td>0.0</td>\n",
              "      <td>UEFA</td>\n",
              "      <td>1993-08-08</td>\n",
              "    </tr>\n",
              "    <tr>\n",
              "      <th>2</th>\n",
              "      <td>3</td>\n",
              "      <td>Switzerland</td>\n",
              "      <td>SUI</td>\n",
              "      <td>0.0</td>\n",
              "      <td>50</td>\n",
              "      <td>9</td>\n",
              "      <td>0.0</td>\n",
              "      <td>0.0</td>\n",
              "      <td>0.0</td>\n",
              "      <td>0.0</td>\n",
              "      <td>0.0</td>\n",
              "      <td>0.0</td>\n",
              "      <td>0.0</td>\n",
              "      <td>0.0</td>\n",
              "      <td>UEFA</td>\n",
              "      <td>1993-08-08</td>\n",
              "    </tr>\n",
              "    <tr>\n",
              "      <th>3</th>\n",
              "      <td>4</td>\n",
              "      <td>Sweden</td>\n",
              "      <td>SWE</td>\n",
              "      <td>0.0</td>\n",
              "      <td>55</td>\n",
              "      <td>0</td>\n",
              "      <td>0.0</td>\n",
              "      <td>0.0</td>\n",
              "      <td>0.0</td>\n",
              "      <td>0.0</td>\n",
              "      <td>0.0</td>\n",
              "      <td>0.0</td>\n",
              "      <td>0.0</td>\n",
              "      <td>0.0</td>\n",
              "      <td>UEFA</td>\n",
              "      <td>1993-08-08</td>\n",
              "    </tr>\n",
              "    <tr>\n",
              "      <th>4</th>\n",
              "      <td>5</td>\n",
              "      <td>Argentina</td>\n",
              "      <td>ARG</td>\n",
              "      <td>0.0</td>\n",
              "      <td>51</td>\n",
              "      <td>5</td>\n",
              "      <td>0.0</td>\n",
              "      <td>0.0</td>\n",
              "      <td>0.0</td>\n",
              "      <td>0.0</td>\n",
              "      <td>0.0</td>\n",
              "      <td>0.0</td>\n",
              "      <td>0.0</td>\n",
              "      <td>0.0</td>\n",
              "      <td>CONMEBOL</td>\n",
              "      <td>1993-08-08</td>\n",
              "    </tr>\n",
              "    <tr>\n",
              "      <th>...</th>\n",
              "      <td>...</td>\n",
              "      <td>...</td>\n",
              "      <td>...</td>\n",
              "      <td>...</td>\n",
              "      <td>...</td>\n",
              "      <td>...</td>\n",
              "      <td>...</td>\n",
              "      <td>...</td>\n",
              "      <td>...</td>\n",
              "      <td>...</td>\n",
              "      <td>...</td>\n",
              "      <td>...</td>\n",
              "      <td>...</td>\n",
              "      <td>...</td>\n",
              "      <td>...</td>\n",
              "      <td>...</td>\n",
              "    </tr>\n",
              "    <tr>\n",
              "      <th>57788</th>\n",
              "      <td>206</td>\n",
              "      <td>Anguilla</td>\n",
              "      <td>AIA</td>\n",
              "      <td>0.0</td>\n",
              "      <td>0</td>\n",
              "      <td>1</td>\n",
              "      <td>0.0</td>\n",
              "      <td>0.0</td>\n",
              "      <td>0.0</td>\n",
              "      <td>0.0</td>\n",
              "      <td>0.0</td>\n",
              "      <td>0.0</td>\n",
              "      <td>0.0</td>\n",
              "      <td>0.0</td>\n",
              "      <td>CONCACAF</td>\n",
              "      <td>2018-06-07</td>\n",
              "    </tr>\n",
              "    <tr>\n",
              "      <th>57789</th>\n",
              "      <td>206</td>\n",
              "      <td>Bahamas</td>\n",
              "      <td>BAH</td>\n",
              "      <td>0.0</td>\n",
              "      <td>0</td>\n",
              "      <td>1</td>\n",
              "      <td>0.0</td>\n",
              "      <td>0.0</td>\n",
              "      <td>0.0</td>\n",
              "      <td>0.0</td>\n",
              "      <td>0.0</td>\n",
              "      <td>0.0</td>\n",
              "      <td>0.0</td>\n",
              "      <td>0.0</td>\n",
              "      <td>CONCACAF</td>\n",
              "      <td>2018-06-07</td>\n",
              "    </tr>\n",
              "    <tr>\n",
              "      <th>57790</th>\n",
              "      <td>206</td>\n",
              "      <td>Eritrea</td>\n",
              "      <td>ERI</td>\n",
              "      <td>0.0</td>\n",
              "      <td>0</td>\n",
              "      <td>1</td>\n",
              "      <td>0.0</td>\n",
              "      <td>0.0</td>\n",
              "      <td>0.0</td>\n",
              "      <td>0.0</td>\n",
              "      <td>0.0</td>\n",
              "      <td>0.0</td>\n",
              "      <td>0.0</td>\n",
              "      <td>0.0</td>\n",
              "      <td>CAF</td>\n",
              "      <td>2018-06-07</td>\n",
              "    </tr>\n",
              "    <tr>\n",
              "      <th>57791</th>\n",
              "      <td>206</td>\n",
              "      <td>Somalia</td>\n",
              "      <td>SOM</td>\n",
              "      <td>0.0</td>\n",
              "      <td>0</td>\n",
              "      <td>1</td>\n",
              "      <td>0.0</td>\n",
              "      <td>0.0</td>\n",
              "      <td>0.0</td>\n",
              "      <td>0.0</td>\n",
              "      <td>0.0</td>\n",
              "      <td>0.0</td>\n",
              "      <td>0.0</td>\n",
              "      <td>0.0</td>\n",
              "      <td>CAF</td>\n",
              "      <td>2018-06-07</td>\n",
              "    </tr>\n",
              "    <tr>\n",
              "      <th>57792</th>\n",
              "      <td>206</td>\n",
              "      <td>Tonga</td>\n",
              "      <td>TGA</td>\n",
              "      <td>0.0</td>\n",
              "      <td>0</td>\n",
              "      <td>1</td>\n",
              "      <td>0.0</td>\n",
              "      <td>0.0</td>\n",
              "      <td>0.0</td>\n",
              "      <td>0.0</td>\n",
              "      <td>0.0</td>\n",
              "      <td>0.0</td>\n",
              "      <td>0.0</td>\n",
              "      <td>0.0</td>\n",
              "      <td>OFC</td>\n",
              "      <td>2018-06-07</td>\n",
              "    </tr>\n",
              "  </tbody>\n",
              "</table>\n",
              "<p>57793 rows × 16 columns</p>\n",
              "</div>"
            ],
            "text/plain": [
              "       rank country_full  ... confederation   rank_date\n",
              "0         1      Germany  ...          UEFA  1993-08-08\n",
              "1         2        Italy  ...          UEFA  1993-08-08\n",
              "2         3  Switzerland  ...          UEFA  1993-08-08\n",
              "3         4       Sweden  ...          UEFA  1993-08-08\n",
              "4         5    Argentina  ...      CONMEBOL  1993-08-08\n",
              "...     ...          ...  ...           ...         ...\n",
              "57788   206     Anguilla  ...      CONCACAF  2018-06-07\n",
              "57789   206      Bahamas  ...      CONCACAF  2018-06-07\n",
              "57790   206      Eritrea  ...           CAF  2018-06-07\n",
              "57791   206      Somalia  ...           CAF  2018-06-07\n",
              "57792   206        Tonga  ...           OFC  2018-06-07\n",
              "\n",
              "[57793 rows x 16 columns]"
            ]
          },
          "metadata": {
            "tags": []
          },
          "execution_count": 24
        }
      ]
    },
    {
      "cell_type": "markdown",
      "metadata": {
        "id": "LR5u6Rnd1KL0",
        "colab_type": "text"
      },
      "source": [
        "Evaluating and checking the required columns"
      ]
    },
    {
      "cell_type": "code",
      "metadata": {
        "id": "Q21-8Vzf2y4d",
        "colab_type": "code",
        "outputId": "68dcc57b-2e13-46f2-d696-ec46864115cf",
        "colab": {
          "base_uri": "https://localhost:8080/",
          "height": 204
        }
      },
      "source": [
        "#from the fifa dataset i will pick the relevant columns that will helpme in my problem statement\n",
        "columns = ['rank','previous_points','country_full','rank_date','total_points']\n",
        "fifa_new = fifa[columns]\n",
        "fifa_new.head()"
      ],
      "execution_count": 0,
      "outputs": [
        {
          "output_type": "execute_result",
          "data": {
            "text/html": [
              "<div>\n",
              "<style scoped>\n",
              "    .dataframe tbody tr th:only-of-type {\n",
              "        vertical-align: middle;\n",
              "    }\n",
              "\n",
              "    .dataframe tbody tr th {\n",
              "        vertical-align: top;\n",
              "    }\n",
              "\n",
              "    .dataframe thead th {\n",
              "        text-align: right;\n",
              "    }\n",
              "</style>\n",
              "<table border=\"1\" class=\"dataframe\">\n",
              "  <thead>\n",
              "    <tr style=\"text-align: right;\">\n",
              "      <th></th>\n",
              "      <th>rank</th>\n",
              "      <th>previous_points</th>\n",
              "      <th>country_full</th>\n",
              "      <th>rank_date</th>\n",
              "      <th>total_points</th>\n",
              "    </tr>\n",
              "  </thead>\n",
              "  <tbody>\n",
              "    <tr>\n",
              "      <th>0</th>\n",
              "      <td>1</td>\n",
              "      <td>57</td>\n",
              "      <td>Germany</td>\n",
              "      <td>1993-08-08</td>\n",
              "      <td>0.0</td>\n",
              "    </tr>\n",
              "    <tr>\n",
              "      <th>1</th>\n",
              "      <td>2</td>\n",
              "      <td>57</td>\n",
              "      <td>Italy</td>\n",
              "      <td>1993-08-08</td>\n",
              "      <td>0.0</td>\n",
              "    </tr>\n",
              "    <tr>\n",
              "      <th>2</th>\n",
              "      <td>3</td>\n",
              "      <td>50</td>\n",
              "      <td>Switzerland</td>\n",
              "      <td>1993-08-08</td>\n",
              "      <td>0.0</td>\n",
              "    </tr>\n",
              "    <tr>\n",
              "      <th>3</th>\n",
              "      <td>4</td>\n",
              "      <td>55</td>\n",
              "      <td>Sweden</td>\n",
              "      <td>1993-08-08</td>\n",
              "      <td>0.0</td>\n",
              "    </tr>\n",
              "    <tr>\n",
              "      <th>4</th>\n",
              "      <td>5</td>\n",
              "      <td>51</td>\n",
              "      <td>Argentina</td>\n",
              "      <td>1993-08-08</td>\n",
              "      <td>0.0</td>\n",
              "    </tr>\n",
              "  </tbody>\n",
              "</table>\n",
              "</div>"
            ],
            "text/plain": [
              "   rank  previous_points country_full   rank_date  total_points\n",
              "0     1               57      Germany  1993-08-08           0.0\n",
              "1     2               57        Italy  1993-08-08           0.0\n",
              "2     3               50  Switzerland  1993-08-08           0.0\n",
              "3     4               55       Sweden  1993-08-08           0.0\n",
              "4     5               51    Argentina  1993-08-08           0.0"
            ]
          },
          "metadata": {
            "tags": []
          },
          "execution_count": 25
        }
      ]
    },
    {
      "cell_type": "code",
      "metadata": {
        "id": "hSFD1tDC4fPn",
        "colab_type": "code",
        "outputId": "1d118de3-80fb-4354-a490-38f054379b6a",
        "colab": {
          "base_uri": "https://localhost:8080/",
          "height": 204
        }
      },
      "source": [
        "fifa_new.tail()"
      ],
      "execution_count": 0,
      "outputs": [
        {
          "output_type": "execute_result",
          "data": {
            "text/html": [
              "<div>\n",
              "<style scoped>\n",
              "    .dataframe tbody tr th:only-of-type {\n",
              "        vertical-align: middle;\n",
              "    }\n",
              "\n",
              "    .dataframe tbody tr th {\n",
              "        vertical-align: top;\n",
              "    }\n",
              "\n",
              "    .dataframe thead th {\n",
              "        text-align: right;\n",
              "    }\n",
              "</style>\n",
              "<table border=\"1\" class=\"dataframe\">\n",
              "  <thead>\n",
              "    <tr style=\"text-align: right;\">\n",
              "      <th></th>\n",
              "      <th>rank</th>\n",
              "      <th>previous_points</th>\n",
              "      <th>country_full</th>\n",
              "      <th>rank_date</th>\n",
              "      <th>total_points</th>\n",
              "    </tr>\n",
              "  </thead>\n",
              "  <tbody>\n",
              "    <tr>\n",
              "      <th>57788</th>\n",
              "      <td>206</td>\n",
              "      <td>0</td>\n",
              "      <td>Anguilla</td>\n",
              "      <td>2018-06-07</td>\n",
              "      <td>0.0</td>\n",
              "    </tr>\n",
              "    <tr>\n",
              "      <th>57789</th>\n",
              "      <td>206</td>\n",
              "      <td>0</td>\n",
              "      <td>Bahamas</td>\n",
              "      <td>2018-06-07</td>\n",
              "      <td>0.0</td>\n",
              "    </tr>\n",
              "    <tr>\n",
              "      <th>57790</th>\n",
              "      <td>206</td>\n",
              "      <td>0</td>\n",
              "      <td>Eritrea</td>\n",
              "      <td>2018-06-07</td>\n",
              "      <td>0.0</td>\n",
              "    </tr>\n",
              "    <tr>\n",
              "      <th>57791</th>\n",
              "      <td>206</td>\n",
              "      <td>0</td>\n",
              "      <td>Somalia</td>\n",
              "      <td>2018-06-07</td>\n",
              "      <td>0.0</td>\n",
              "    </tr>\n",
              "    <tr>\n",
              "      <th>57792</th>\n",
              "      <td>206</td>\n",
              "      <td>0</td>\n",
              "      <td>Tonga</td>\n",
              "      <td>2018-06-07</td>\n",
              "      <td>0.0</td>\n",
              "    </tr>\n",
              "  </tbody>\n",
              "</table>\n",
              "</div>"
            ],
            "text/plain": [
              "       rank  previous_points country_full   rank_date  total_points\n",
              "57788   206                0     Anguilla  2018-06-07           0.0\n",
              "57789   206                0      Bahamas  2018-06-07           0.0\n",
              "57790   206                0      Eritrea  2018-06-07           0.0\n",
              "57791   206                0      Somalia  2018-06-07           0.0\n",
              "57792   206                0        Tonga  2018-06-07           0.0"
            ]
          },
          "metadata": {
            "tags": []
          },
          "execution_count": 26
        }
      ]
    },
    {
      "cell_type": "code",
      "metadata": {
        "id": "6SBVlYZD895p",
        "colab_type": "code",
        "outputId": "0f02affc-5a2d-43f8-c63a-d2b52ed55a3f",
        "colab": {
          "base_uri": "https://localhost:8080/",
          "height": 297
        }
      },
      "source": [
        "fifa_new.describe()"
      ],
      "execution_count": 0,
      "outputs": [
        {
          "output_type": "execute_result",
          "data": {
            "text/html": [
              "<div>\n",
              "<style scoped>\n",
              "    .dataframe tbody tr th:only-of-type {\n",
              "        vertical-align: middle;\n",
              "    }\n",
              "\n",
              "    .dataframe tbody tr th {\n",
              "        vertical-align: top;\n",
              "    }\n",
              "\n",
              "    .dataframe thead th {\n",
              "        text-align: right;\n",
              "    }\n",
              "</style>\n",
              "<table border=\"1\" class=\"dataframe\">\n",
              "  <thead>\n",
              "    <tr style=\"text-align: right;\">\n",
              "      <th></th>\n",
              "      <th>rank</th>\n",
              "      <th>previous_points</th>\n",
              "      <th>total_points</th>\n",
              "    </tr>\n",
              "  </thead>\n",
              "  <tbody>\n",
              "    <tr>\n",
              "      <th>count</th>\n",
              "      <td>57793.000000</td>\n",
              "      <td>57793.000000</td>\n",
              "      <td>57793.000000</td>\n",
              "    </tr>\n",
              "    <tr>\n",
              "      <th>mean</th>\n",
              "      <td>101.628086</td>\n",
              "      <td>332.302926</td>\n",
              "      <td>122.068637</td>\n",
              "    </tr>\n",
              "    <tr>\n",
              "      <th>std</th>\n",
              "      <td>58.618424</td>\n",
              "      <td>302.872948</td>\n",
              "      <td>260.426863</td>\n",
              "    </tr>\n",
              "    <tr>\n",
              "      <th>min</th>\n",
              "      <td>1.000000</td>\n",
              "      <td>0.000000</td>\n",
              "      <td>0.000000</td>\n",
              "    </tr>\n",
              "    <tr>\n",
              "      <th>25%</th>\n",
              "      <td>51.000000</td>\n",
              "      <td>56.000000</td>\n",
              "      <td>0.000000</td>\n",
              "    </tr>\n",
              "    <tr>\n",
              "      <th>50%</th>\n",
              "      <td>101.000000</td>\n",
              "      <td>272.000000</td>\n",
              "      <td>0.000000</td>\n",
              "    </tr>\n",
              "    <tr>\n",
              "      <th>75%</th>\n",
              "      <td>152.000000</td>\n",
              "      <td>525.000000</td>\n",
              "      <td>92.790000</td>\n",
              "    </tr>\n",
              "    <tr>\n",
              "      <th>max</th>\n",
              "      <td>209.000000</td>\n",
              "      <td>1920.000000</td>\n",
              "      <td>1775.030000</td>\n",
              "    </tr>\n",
              "  </tbody>\n",
              "</table>\n",
              "</div>"
            ],
            "text/plain": [
              "               rank  previous_points  total_points\n",
              "count  57793.000000     57793.000000  57793.000000\n",
              "mean     101.628086       332.302926    122.068637\n",
              "std       58.618424       302.872948    260.426863\n",
              "min        1.000000         0.000000      0.000000\n",
              "25%       51.000000        56.000000      0.000000\n",
              "50%      101.000000       272.000000      0.000000\n",
              "75%      152.000000       525.000000     92.790000\n",
              "max      209.000000      1920.000000   1775.030000"
            ]
          },
          "metadata": {
            "tags": []
          },
          "execution_count": 27
        }
      ]
    },
    {
      "cell_type": "code",
      "metadata": {
        "id": "emeAtXsa9DSl",
        "colab_type": "code",
        "outputId": "2abb6fc8-4818-40ac-e3aa-844ff5540607",
        "colab": {
          "base_uri": "https://localhost:8080/",
          "height": 187
        }
      },
      "source": [
        "fifa_new.info()"
      ],
      "execution_count": 0,
      "outputs": [
        {
          "output_type": "stream",
          "text": [
            "<class 'pandas.core.frame.DataFrame'>\n",
            "RangeIndex: 57793 entries, 0 to 57792\n",
            "Data columns (total 5 columns):\n",
            "rank               57793 non-null int64\n",
            "previous_points    57793 non-null int64\n",
            "country_full       57793 non-null object\n",
            "rank_date          57793 non-null object\n",
            "total_points       57793 non-null float64\n",
            "dtypes: float64(1), int64(2), object(2)\n",
            "memory usage: 2.2+ MB\n"
          ],
          "name": "stdout"
        }
      ]
    },
    {
      "cell_type": "markdown",
      "metadata": {
        "id": "eEL22nAt_uEX",
        "colab_type": "text"
      },
      "source": [
        "# 1.3 Data Uniformity"
      ]
    },
    {
      "cell_type": "code",
      "metadata": {
        "id": "T6GURx4U9THx",
        "colab_type": "code",
        "outputId": "dc7fbfa0-8cf8-42ac-e078-4ba254c0fa52",
        "colab": {
          "base_uri": "https://localhost:8080/",
          "height": 309
        }
      },
      "source": [
        "#change the data datatype to datetime\n",
        "fifa_new['rank_date'] = pd.to_datetime(fifa_new['rank_date'], errors='coerce')\n",
        "fifa_new.info()"
      ],
      "execution_count": 0,
      "outputs": [
        {
          "output_type": "stream",
          "text": [
            "<class 'pandas.core.frame.DataFrame'>\n",
            "RangeIndex: 57793 entries, 0 to 57792\n",
            "Data columns (total 5 columns):\n",
            "rank               57793 non-null int64\n",
            "previous_points    57793 non-null int64\n",
            "country_full       57793 non-null object\n",
            "rank_date          57793 non-null datetime64[ns]\n",
            "total_points       57793 non-null float64\n",
            "dtypes: datetime64[ns](1), float64(1), int64(2), object(1)\n",
            "memory usage: 2.2+ MB\n"
          ],
          "name": "stdout"
        },
        {
          "output_type": "stream",
          "text": [
            "/usr/local/lib/python3.6/dist-packages/ipykernel_launcher.py:1: SettingWithCopyWarning: \n",
            "A value is trying to be set on a copy of a slice from a DataFrame.\n",
            "Try using .loc[row_indexer,col_indexer] = value instead\n",
            "\n",
            "See the caveats in the documentation: http://pandas.pydata.org/pandas-docs/stable/user_guide/indexing.html#returning-a-view-versus-a-copy\n",
            "  \"\"\"Entry point for launching an IPython kernel.\n"
          ],
          "name": "stderr"
        }
      ]
    },
    {
      "cell_type": "code",
      "metadata": {
        "id": "nskfo-Pi5Zi2",
        "colab_type": "code",
        "outputId": "0b01c7be-94d3-4c5b-f31b-401005aada9a",
        "colab": {
          "base_uri": "https://localhost:8080/",
          "height": 309
        }
      },
      "source": [
        "#from the description country_full and home team have similar description\n",
        "#rename the country_full column to home team to enable merging the two tables\n",
        "fifa_new.rename(columns={'country_full':'home_team'}, inplace=True)\n",
        "fifa_new.head()"
      ],
      "execution_count": 0,
      "outputs": [
        {
          "output_type": "stream",
          "text": [
            "/usr/local/lib/python3.6/dist-packages/pandas/core/frame.py:4238: SettingWithCopyWarning: \n",
            "A value is trying to be set on a copy of a slice from a DataFrame\n",
            "\n",
            "See the caveats in the documentation: http://pandas.pydata.org/pandas-docs/stable/user_guide/indexing.html#returning-a-view-versus-a-copy\n",
            "  return super().rename(**kwargs)\n"
          ],
          "name": "stderr"
        },
        {
          "output_type": "execute_result",
          "data": {
            "text/html": [
              "<div>\n",
              "<style scoped>\n",
              "    .dataframe tbody tr th:only-of-type {\n",
              "        vertical-align: middle;\n",
              "    }\n",
              "\n",
              "    .dataframe tbody tr th {\n",
              "        vertical-align: top;\n",
              "    }\n",
              "\n",
              "    .dataframe thead th {\n",
              "        text-align: right;\n",
              "    }\n",
              "</style>\n",
              "<table border=\"1\" class=\"dataframe\">\n",
              "  <thead>\n",
              "    <tr style=\"text-align: right;\">\n",
              "      <th></th>\n",
              "      <th>rank</th>\n",
              "      <th>previous_points</th>\n",
              "      <th>home_team</th>\n",
              "      <th>rank_date</th>\n",
              "      <th>total_points</th>\n",
              "    </tr>\n",
              "  </thead>\n",
              "  <tbody>\n",
              "    <tr>\n",
              "      <th>0</th>\n",
              "      <td>1</td>\n",
              "      <td>57</td>\n",
              "      <td>Germany</td>\n",
              "      <td>1993-08-08</td>\n",
              "      <td>0.0</td>\n",
              "    </tr>\n",
              "    <tr>\n",
              "      <th>1</th>\n",
              "      <td>2</td>\n",
              "      <td>57</td>\n",
              "      <td>Italy</td>\n",
              "      <td>1993-08-08</td>\n",
              "      <td>0.0</td>\n",
              "    </tr>\n",
              "    <tr>\n",
              "      <th>2</th>\n",
              "      <td>3</td>\n",
              "      <td>50</td>\n",
              "      <td>Switzerland</td>\n",
              "      <td>1993-08-08</td>\n",
              "      <td>0.0</td>\n",
              "    </tr>\n",
              "    <tr>\n",
              "      <th>3</th>\n",
              "      <td>4</td>\n",
              "      <td>55</td>\n",
              "      <td>Sweden</td>\n",
              "      <td>1993-08-08</td>\n",
              "      <td>0.0</td>\n",
              "    </tr>\n",
              "    <tr>\n",
              "      <th>4</th>\n",
              "      <td>5</td>\n",
              "      <td>51</td>\n",
              "      <td>Argentina</td>\n",
              "      <td>1993-08-08</td>\n",
              "      <td>0.0</td>\n",
              "    </tr>\n",
              "  </tbody>\n",
              "</table>\n",
              "</div>"
            ],
            "text/plain": [
              "   rank  previous_points    home_team  rank_date  total_points\n",
              "0     1               57      Germany 1993-08-08           0.0\n",
              "1     2               57        Italy 1993-08-08           0.0\n",
              "2     3               50  Switzerland 1993-08-08           0.0\n",
              "3     4               55       Sweden 1993-08-08           0.0\n",
              "4     5               51    Argentina 1993-08-08           0.0"
            ]
          },
          "metadata": {
            "tags": []
          },
          "execution_count": 30
        }
      ]
    },
    {
      "cell_type": "code",
      "metadata": {
        "id": "NqDBA9NQ7jWS",
        "colab_type": "code",
        "outputId": "b6e8243d-09ae-427e-8c92-fe0e8042209f",
        "colab": {
          "base_uri": "https://localhost:8080/",
          "height": 204
        }
      },
      "source": [
        "#now to look at the other dataset\n",
        "results=pd.read_csv('results.csv')\n",
        "results.head()"
      ],
      "execution_count": 0,
      "outputs": [
        {
          "output_type": "execute_result",
          "data": {
            "text/html": [
              "<div>\n",
              "<style scoped>\n",
              "    .dataframe tbody tr th:only-of-type {\n",
              "        vertical-align: middle;\n",
              "    }\n",
              "\n",
              "    .dataframe tbody tr th {\n",
              "        vertical-align: top;\n",
              "    }\n",
              "\n",
              "    .dataframe thead th {\n",
              "        text-align: right;\n",
              "    }\n",
              "</style>\n",
              "<table border=\"1\" class=\"dataframe\">\n",
              "  <thead>\n",
              "    <tr style=\"text-align: right;\">\n",
              "      <th></th>\n",
              "      <th>date</th>\n",
              "      <th>home_team</th>\n",
              "      <th>away_team</th>\n",
              "      <th>home_score</th>\n",
              "      <th>away_score</th>\n",
              "      <th>tournament</th>\n",
              "      <th>city</th>\n",
              "      <th>country</th>\n",
              "      <th>neutral</th>\n",
              "    </tr>\n",
              "  </thead>\n",
              "  <tbody>\n",
              "    <tr>\n",
              "      <th>0</th>\n",
              "      <td>1872-11-30</td>\n",
              "      <td>Scotland</td>\n",
              "      <td>England</td>\n",
              "      <td>0</td>\n",
              "      <td>0</td>\n",
              "      <td>Friendly</td>\n",
              "      <td>Glasgow</td>\n",
              "      <td>Scotland</td>\n",
              "      <td>False</td>\n",
              "    </tr>\n",
              "    <tr>\n",
              "      <th>1</th>\n",
              "      <td>1873-03-08</td>\n",
              "      <td>England</td>\n",
              "      <td>Scotland</td>\n",
              "      <td>4</td>\n",
              "      <td>2</td>\n",
              "      <td>Friendly</td>\n",
              "      <td>London</td>\n",
              "      <td>England</td>\n",
              "      <td>False</td>\n",
              "    </tr>\n",
              "    <tr>\n",
              "      <th>2</th>\n",
              "      <td>1874-03-07</td>\n",
              "      <td>Scotland</td>\n",
              "      <td>England</td>\n",
              "      <td>2</td>\n",
              "      <td>1</td>\n",
              "      <td>Friendly</td>\n",
              "      <td>Glasgow</td>\n",
              "      <td>Scotland</td>\n",
              "      <td>False</td>\n",
              "    </tr>\n",
              "    <tr>\n",
              "      <th>3</th>\n",
              "      <td>1875-03-06</td>\n",
              "      <td>England</td>\n",
              "      <td>Scotland</td>\n",
              "      <td>2</td>\n",
              "      <td>2</td>\n",
              "      <td>Friendly</td>\n",
              "      <td>London</td>\n",
              "      <td>England</td>\n",
              "      <td>False</td>\n",
              "    </tr>\n",
              "    <tr>\n",
              "      <th>4</th>\n",
              "      <td>1876-03-04</td>\n",
              "      <td>Scotland</td>\n",
              "      <td>England</td>\n",
              "      <td>3</td>\n",
              "      <td>0</td>\n",
              "      <td>Friendly</td>\n",
              "      <td>Glasgow</td>\n",
              "      <td>Scotland</td>\n",
              "      <td>False</td>\n",
              "    </tr>\n",
              "  </tbody>\n",
              "</table>\n",
              "</div>"
            ],
            "text/plain": [
              "         date home_team away_team  ...     city   country neutral\n",
              "0  1872-11-30  Scotland   England  ...  Glasgow  Scotland   False\n",
              "1  1873-03-08   England  Scotland  ...   London   England   False\n",
              "2  1874-03-07  Scotland   England  ...  Glasgow  Scotland   False\n",
              "3  1875-03-06   England  Scotland  ...   London   England   False\n",
              "4  1876-03-04  Scotland   England  ...  Glasgow  Scotland   False\n",
              "\n",
              "[5 rows x 9 columns]"
            ]
          },
          "metadata": {
            "tags": []
          },
          "execution_count": 31
        }
      ]
    },
    {
      "cell_type": "code",
      "metadata": {
        "id": "JIp6PJki7xi1",
        "colab_type": "code",
        "colab": {}
      },
      "source": [
        "#drop unecessary columns \n",
        "results.drop(['city','country'], axis=1,inplace=True)"
      ],
      "execution_count": 0,
      "outputs": []
    },
    {
      "cell_type": "code",
      "metadata": {
        "id": "vZPeFC-c8eDA",
        "colab_type": "code",
        "outputId": "b010742f-ea8b-4264-e158-9dcebd6634e7",
        "colab": {
          "base_uri": "https://localhost:8080/",
          "height": 204
        }
      },
      "source": [
        "results.head()"
      ],
      "execution_count": 0,
      "outputs": [
        {
          "output_type": "execute_result",
          "data": {
            "text/html": [
              "<div>\n",
              "<style scoped>\n",
              "    .dataframe tbody tr th:only-of-type {\n",
              "        vertical-align: middle;\n",
              "    }\n",
              "\n",
              "    .dataframe tbody tr th {\n",
              "        vertical-align: top;\n",
              "    }\n",
              "\n",
              "    .dataframe thead th {\n",
              "        text-align: right;\n",
              "    }\n",
              "</style>\n",
              "<table border=\"1\" class=\"dataframe\">\n",
              "  <thead>\n",
              "    <tr style=\"text-align: right;\">\n",
              "      <th></th>\n",
              "      <th>date</th>\n",
              "      <th>home_team</th>\n",
              "      <th>away_team</th>\n",
              "      <th>home_score</th>\n",
              "      <th>away_score</th>\n",
              "      <th>tournament</th>\n",
              "      <th>neutral</th>\n",
              "    </tr>\n",
              "  </thead>\n",
              "  <tbody>\n",
              "    <tr>\n",
              "      <th>0</th>\n",
              "      <td>1872-11-30</td>\n",
              "      <td>Scotland</td>\n",
              "      <td>England</td>\n",
              "      <td>0</td>\n",
              "      <td>0</td>\n",
              "      <td>Friendly</td>\n",
              "      <td>False</td>\n",
              "    </tr>\n",
              "    <tr>\n",
              "      <th>1</th>\n",
              "      <td>1873-03-08</td>\n",
              "      <td>England</td>\n",
              "      <td>Scotland</td>\n",
              "      <td>4</td>\n",
              "      <td>2</td>\n",
              "      <td>Friendly</td>\n",
              "      <td>False</td>\n",
              "    </tr>\n",
              "    <tr>\n",
              "      <th>2</th>\n",
              "      <td>1874-03-07</td>\n",
              "      <td>Scotland</td>\n",
              "      <td>England</td>\n",
              "      <td>2</td>\n",
              "      <td>1</td>\n",
              "      <td>Friendly</td>\n",
              "      <td>False</td>\n",
              "    </tr>\n",
              "    <tr>\n",
              "      <th>3</th>\n",
              "      <td>1875-03-06</td>\n",
              "      <td>England</td>\n",
              "      <td>Scotland</td>\n",
              "      <td>2</td>\n",
              "      <td>2</td>\n",
              "      <td>Friendly</td>\n",
              "      <td>False</td>\n",
              "    </tr>\n",
              "    <tr>\n",
              "      <th>4</th>\n",
              "      <td>1876-03-04</td>\n",
              "      <td>Scotland</td>\n",
              "      <td>England</td>\n",
              "      <td>3</td>\n",
              "      <td>0</td>\n",
              "      <td>Friendly</td>\n",
              "      <td>False</td>\n",
              "    </tr>\n",
              "  </tbody>\n",
              "</table>\n",
              "</div>"
            ],
            "text/plain": [
              "         date home_team away_team  home_score  away_score tournament  neutral\n",
              "0  1872-11-30  Scotland   England           0           0   Friendly    False\n",
              "1  1873-03-08   England  Scotland           4           2   Friendly    False\n",
              "2  1874-03-07  Scotland   England           2           1   Friendly    False\n",
              "3  1875-03-06   England  Scotland           2           2   Friendly    False\n",
              "4  1876-03-04  Scotland   England           3           0   Friendly    False"
            ]
          },
          "metadata": {
            "tags": []
          },
          "execution_count": 33
        }
      ]
    },
    {
      "cell_type": "code",
      "metadata": {
        "id": "uxjuFNqk96FN",
        "colab_type": "code",
        "outputId": "d5e2a9c4-7d10-4ca7-8f90-1d0cfb956e8e",
        "colab": {
          "base_uri": "https://localhost:8080/",
          "height": 221
        }
      },
      "source": [
        "#checking the info for right datatypes\n",
        "results.info()\n",
        "#date to be converted to datetime"
      ],
      "execution_count": 0,
      "outputs": [
        {
          "output_type": "stream",
          "text": [
            "<class 'pandas.core.frame.DataFrame'>\n",
            "RangeIndex: 40839 entries, 0 to 40838\n",
            "Data columns (total 7 columns):\n",
            "date          40839 non-null object\n",
            "home_team     40839 non-null object\n",
            "away_team     40839 non-null object\n",
            "home_score    40839 non-null int64\n",
            "away_score    40839 non-null int64\n",
            "tournament    40839 non-null object\n",
            "neutral       40839 non-null bool\n",
            "dtypes: bool(1), int64(2), object(4)\n",
            "memory usage: 1.9+ MB\n"
          ],
          "name": "stdout"
        }
      ]
    },
    {
      "cell_type": "code",
      "metadata": {
        "id": "kZY_ltzH-AIX",
        "colab_type": "code",
        "outputId": "dc9055a2-62da-4194-bac8-2c3841bd9210",
        "colab": {
          "base_uri": "https://localhost:8080/",
          "height": 221
        }
      },
      "source": [
        "#change datatype to datetime\n",
        "results['date'] = pd.to_datetime(results['date'], errors='coerce')\n",
        "results.info()"
      ],
      "execution_count": 0,
      "outputs": [
        {
          "output_type": "stream",
          "text": [
            "<class 'pandas.core.frame.DataFrame'>\n",
            "RangeIndex: 40839 entries, 0 to 40838\n",
            "Data columns (total 7 columns):\n",
            "date          40839 non-null datetime64[ns]\n",
            "home_team     40839 non-null object\n",
            "away_team     40839 non-null object\n",
            "home_score    40839 non-null int64\n",
            "away_score    40839 non-null int64\n",
            "tournament    40839 non-null object\n",
            "neutral       40839 non-null bool\n",
            "dtypes: bool(1), datetime64[ns](1), int64(2), object(3)\n",
            "memory usage: 1.9+ MB\n"
          ],
          "name": "stdout"
        }
      ]
    },
    {
      "cell_type": "code",
      "metadata": {
        "id": "BJ5cBBiK_Etb",
        "colab_type": "code",
        "outputId": "489e46b1-60c6-4b46-f04e-4431203eeafb",
        "colab": {
          "base_uri": "https://localhost:8080/",
          "height": 221
        }
      },
      "source": [
        "fifa_new['rank_date']\n"
      ],
      "execution_count": 0,
      "outputs": [
        {
          "output_type": "execute_result",
          "data": {
            "text/plain": [
              "0       1993-08-08\n",
              "1       1993-08-08\n",
              "2       1993-08-08\n",
              "3       1993-08-08\n",
              "4       1993-08-08\n",
              "           ...    \n",
              "57788   2018-06-07\n",
              "57789   2018-06-07\n",
              "57790   2018-06-07\n",
              "57791   2018-06-07\n",
              "57792   2018-06-07\n",
              "Name: rank_date, Length: 57793, dtype: datetime64[ns]"
            ]
          },
          "metadata": {
            "tags": []
          },
          "execution_count": 36
        }
      ]
    },
    {
      "cell_type": "code",
      "metadata": {
        "id": "2CPQDYO0_WUn",
        "colab_type": "code",
        "outputId": "10ae5771-b153-4f99-9b22-d99d82707e6e",
        "colab": {
          "base_uri": "https://localhost:8080/",
          "height": 221
        }
      },
      "source": [
        "results['date']"
      ],
      "execution_count": 0,
      "outputs": [
        {
          "output_type": "execute_result",
          "data": {
            "text/plain": [
              "0       1872-11-30\n",
              "1       1873-03-08\n",
              "2       1874-03-07\n",
              "3       1875-03-06\n",
              "4       1876-03-04\n",
              "           ...    \n",
              "40834   2019-07-18\n",
              "40835   2019-07-18\n",
              "40836   2019-07-19\n",
              "40837   2019-07-19\n",
              "40838   2019-07-20\n",
              "Name: date, Length: 40839, dtype: datetime64[ns]"
            ]
          },
          "metadata": {
            "tags": []
          },
          "execution_count": 37
        }
      ]
    },
    {
      "cell_type": "code",
      "metadata": {
        "id": "U-quV8v3B-oF",
        "colab_type": "code",
        "outputId": "40e8e840-33ba-426b-dbb7-f3df8fb2380a",
        "colab": {
          "base_uri": "https://localhost:8080/",
          "height": 241
        }
      },
      "source": [
        "#separating the year from the date columns in both datasets.\n",
        "#i will use years from 1993 to 2018 which is the last date on fifa.csv \n",
        "results['year']=results['date'].dt.year\n",
        "results['month']=results['date'].dt.month\n",
        "fifa_new['year']=fifa_new['rank_date'].dt.year\n",
        "fifa_new['month']=fifa_new['rank_date'].dt.month"
      ],
      "execution_count": 0,
      "outputs": [
        {
          "output_type": "stream",
          "text": [
            "/usr/local/lib/python3.6/dist-packages/ipykernel_launcher.py:3: SettingWithCopyWarning: \n",
            "A value is trying to be set on a copy of a slice from a DataFrame.\n",
            "Try using .loc[row_indexer,col_indexer] = value instead\n",
            "\n",
            "See the caveats in the documentation: http://pandas.pydata.org/pandas-docs/stable/user_guide/indexing.html#returning-a-view-versus-a-copy\n",
            "  This is separate from the ipykernel package so we can avoid doing imports until\n",
            "/usr/local/lib/python3.6/dist-packages/ipykernel_launcher.py:4: SettingWithCopyWarning: \n",
            "A value is trying to be set on a copy of a slice from a DataFrame.\n",
            "Try using .loc[row_indexer,col_indexer] = value instead\n",
            "\n",
            "See the caveats in the documentation: http://pandas.pydata.org/pandas-docs/stable/user_guide/indexing.html#returning-a-view-versus-a-copy\n",
            "  after removing the cwd from sys.path.\n"
          ],
          "name": "stderr"
        }
      ]
    },
    {
      "cell_type": "code",
      "metadata": {
        "id": "ZGIKNjR2BIQR",
        "colab_type": "code",
        "outputId": "e67b7c7e-d53c-471a-d5a4-ae86c6257da6",
        "colab": {
          "base_uri": "https://localhost:8080/",
          "height": 80
        }
      },
      "source": [
        "#checking the data \n",
        "fifa_new.head(1)"
      ],
      "execution_count": 0,
      "outputs": [
        {
          "output_type": "execute_result",
          "data": {
            "text/html": [
              "<div>\n",
              "<style scoped>\n",
              "    .dataframe tbody tr th:only-of-type {\n",
              "        vertical-align: middle;\n",
              "    }\n",
              "\n",
              "    .dataframe tbody tr th {\n",
              "        vertical-align: top;\n",
              "    }\n",
              "\n",
              "    .dataframe thead th {\n",
              "        text-align: right;\n",
              "    }\n",
              "</style>\n",
              "<table border=\"1\" class=\"dataframe\">\n",
              "  <thead>\n",
              "    <tr style=\"text-align: right;\">\n",
              "      <th></th>\n",
              "      <th>rank</th>\n",
              "      <th>previous_points</th>\n",
              "      <th>home_team</th>\n",
              "      <th>rank_date</th>\n",
              "      <th>total_points</th>\n",
              "      <th>year</th>\n",
              "      <th>month</th>\n",
              "    </tr>\n",
              "  </thead>\n",
              "  <tbody>\n",
              "    <tr>\n",
              "      <th>0</th>\n",
              "      <td>1</td>\n",
              "      <td>57</td>\n",
              "      <td>Germany</td>\n",
              "      <td>1993-08-08</td>\n",
              "      <td>0.0</td>\n",
              "      <td>1993</td>\n",
              "      <td>8</td>\n",
              "    </tr>\n",
              "  </tbody>\n",
              "</table>\n",
              "</div>"
            ],
            "text/plain": [
              "   rank  previous_points home_team  rank_date  total_points  year  month\n",
              "0     1               57   Germany 1993-08-08           0.0  1993      8"
            ]
          },
          "metadata": {
            "tags": []
          },
          "execution_count": 39
        }
      ]
    },
    {
      "cell_type": "code",
      "metadata": {
        "id": "MNYHp9UbBnzl",
        "colab_type": "code",
        "outputId": "84baac0e-1268-460f-b0a3-85fdaaa3d410",
        "colab": {
          "base_uri": "https://localhost:8080/",
          "height": 80
        }
      },
      "source": [
        "results.head(1)"
      ],
      "execution_count": 0,
      "outputs": [
        {
          "output_type": "execute_result",
          "data": {
            "text/html": [
              "<div>\n",
              "<style scoped>\n",
              "    .dataframe tbody tr th:only-of-type {\n",
              "        vertical-align: middle;\n",
              "    }\n",
              "\n",
              "    .dataframe tbody tr th {\n",
              "        vertical-align: top;\n",
              "    }\n",
              "\n",
              "    .dataframe thead th {\n",
              "        text-align: right;\n",
              "    }\n",
              "</style>\n",
              "<table border=\"1\" class=\"dataframe\">\n",
              "  <thead>\n",
              "    <tr style=\"text-align: right;\">\n",
              "      <th></th>\n",
              "      <th>date</th>\n",
              "      <th>home_team</th>\n",
              "      <th>away_team</th>\n",
              "      <th>home_score</th>\n",
              "      <th>away_score</th>\n",
              "      <th>tournament</th>\n",
              "      <th>neutral</th>\n",
              "    </tr>\n",
              "  </thead>\n",
              "  <tbody>\n",
              "    <tr>\n",
              "      <th>0</th>\n",
              "      <td>1872-11-30</td>\n",
              "      <td>Scotland</td>\n",
              "      <td>England</td>\n",
              "      <td>0</td>\n",
              "      <td>0</td>\n",
              "      <td>Friendly</td>\n",
              "      <td>False</td>\n",
              "    </tr>\n",
              "  </tbody>\n",
              "</table>\n",
              "</div>"
            ],
            "text/plain": [
              "        date home_team away_team  home_score  away_score tournament  neutral\n",
              "0 1872-11-30  Scotland   England           0           0   Friendly    False"
            ]
          },
          "metadata": {
            "tags": []
          },
          "execution_count": 18
        }
      ]
    },
    {
      "cell_type": "markdown",
      "metadata": {
        "id": "zMml42Tv1bEH",
        "colab_type": "text"
      },
      "source": [
        "#1.4 External Validation"
      ]
    },
    {
      "cell_type": "code",
      "metadata": {
        "id": "5MT3bMdJIROH",
        "colab_type": "code",
        "colab": {}
      },
      "source": [
        "#to drop the years before 1993 and till 2018 this is where our data reached in both dataset and when the model being tested was put to test.\n",
        "results=results[results['date']>='1993-08-08']\n",
        "results=results[results['date']<= '2018-06-07']"
      ],
      "execution_count": 0,
      "outputs": []
    },
    {
      "cell_type": "code",
      "metadata": {
        "id": "Y78PuSFLIfuN",
        "colab_type": "code",
        "outputId": "321ebbae-bb5f-413e-ef94-f6ab282987e5",
        "colab": {
          "base_uri": "https://localhost:8080/",
          "height": 34
        }
      },
      "source": [
        "fifa_new.shape"
      ],
      "execution_count": 0,
      "outputs": [
        {
          "output_type": "execute_result",
          "data": {
            "text/plain": [
              "(57793, 7)"
            ]
          },
          "metadata": {
            "tags": []
          },
          "execution_count": 41
        }
      ]
    },
    {
      "cell_type": "code",
      "metadata": {
        "id": "Nr5uPHxJI_TG",
        "colab_type": "code",
        "outputId": "bb0c8dca-a933-4e8f-edce-04e4db0e26a1",
        "colab": {
          "base_uri": "https://localhost:8080/",
          "height": 34
        }
      },
      "source": [
        "results.shape"
      ],
      "execution_count": 0,
      "outputs": [
        {
          "output_type": "execute_result",
          "data": {
            "text/plain": [
              "(21919, 9)"
            ]
          },
          "metadata": {
            "tags": []
          },
          "execution_count": 42
        }
      ]
    },
    {
      "cell_type": "markdown",
      "metadata": {
        "id": "OKoE36Ll2FVX",
        "colab_type": "text"
      },
      "source": [
        "#2.0 EXPLORATORY DATA ANALYSIS"
      ]
    },
    {
      "cell_type": "code",
      "metadata": {
        "id": "6Dq67AGV8h8X",
        "colab_type": "code",
        "outputId": "d860dad0-1096-444a-ee89-e3875cefd24f",
        "colab": {
          "base_uri": "https://localhost:8080/",
          "height": 360
        }
      },
      "source": [
        "#merge the two datasets via home_team and the separated year,month\n",
        "m_dataset= pd.merge(results,fifa_new,how='left',on=['home_team', 'year', 'month'])\n",
        "m_dataset.head()"
      ],
      "execution_count": 0,
      "outputs": [
        {
          "output_type": "execute_result",
          "data": {
            "text/html": [
              "<div>\n",
              "<style scoped>\n",
              "    .dataframe tbody tr th:only-of-type {\n",
              "        vertical-align: middle;\n",
              "    }\n",
              "\n",
              "    .dataframe tbody tr th {\n",
              "        vertical-align: top;\n",
              "    }\n",
              "\n",
              "    .dataframe thead th {\n",
              "        text-align: right;\n",
              "    }\n",
              "</style>\n",
              "<table border=\"1\" class=\"dataframe\">\n",
              "  <thead>\n",
              "    <tr style=\"text-align: right;\">\n",
              "      <th></th>\n",
              "      <th>date</th>\n",
              "      <th>home_team</th>\n",
              "      <th>away_team</th>\n",
              "      <th>home_score</th>\n",
              "      <th>away_score</th>\n",
              "      <th>tournament</th>\n",
              "      <th>neutral</th>\n",
              "      <th>year</th>\n",
              "      <th>month</th>\n",
              "      <th>rank</th>\n",
              "      <th>previous_points</th>\n",
              "      <th>rank_date</th>\n",
              "      <th>total_points</th>\n",
              "    </tr>\n",
              "  </thead>\n",
              "  <tbody>\n",
              "    <tr>\n",
              "      <th>0</th>\n",
              "      <td>1993-08-08</td>\n",
              "      <td>Bolivia</td>\n",
              "      <td>Uruguay</td>\n",
              "      <td>3</td>\n",
              "      <td>1</td>\n",
              "      <td>FIFA World Cup qualification</td>\n",
              "      <td>False</td>\n",
              "      <td>1993</td>\n",
              "      <td>8</td>\n",
              "      <td>59.0</td>\n",
              "      <td>13.0</td>\n",
              "      <td>1993-08-08</td>\n",
              "      <td>0.0</td>\n",
              "    </tr>\n",
              "    <tr>\n",
              "      <th>1</th>\n",
              "      <td>1993-08-08</td>\n",
              "      <td>Brazil</td>\n",
              "      <td>Mexico</td>\n",
              "      <td>1</td>\n",
              "      <td>1</td>\n",
              "      <td>Friendly</td>\n",
              "      <td>False</td>\n",
              "      <td>1993</td>\n",
              "      <td>8</td>\n",
              "      <td>8.0</td>\n",
              "      <td>55.0</td>\n",
              "      <td>1993-08-08</td>\n",
              "      <td>0.0</td>\n",
              "    </tr>\n",
              "    <tr>\n",
              "      <th>2</th>\n",
              "      <td>1993-08-08</td>\n",
              "      <td>Ecuador</td>\n",
              "      <td>Venezuela</td>\n",
              "      <td>5</td>\n",
              "      <td>0</td>\n",
              "      <td>FIFA World Cup qualification</td>\n",
              "      <td>False</td>\n",
              "      <td>1993</td>\n",
              "      <td>8</td>\n",
              "      <td>35.0</td>\n",
              "      <td>23.0</td>\n",
              "      <td>1993-08-08</td>\n",
              "      <td>0.0</td>\n",
              "    </tr>\n",
              "    <tr>\n",
              "      <th>3</th>\n",
              "      <td>1993-08-08</td>\n",
              "      <td>Guinea</td>\n",
              "      <td>Sierra Leone</td>\n",
              "      <td>1</td>\n",
              "      <td>0</td>\n",
              "      <td>Friendly</td>\n",
              "      <td>False</td>\n",
              "      <td>1993</td>\n",
              "      <td>8</td>\n",
              "      <td>65.0</td>\n",
              "      <td>23.0</td>\n",
              "      <td>1993-08-08</td>\n",
              "      <td>0.0</td>\n",
              "    </tr>\n",
              "    <tr>\n",
              "      <th>4</th>\n",
              "      <td>1993-08-08</td>\n",
              "      <td>Paraguay</td>\n",
              "      <td>Argentina</td>\n",
              "      <td>1</td>\n",
              "      <td>3</td>\n",
              "      <td>FIFA World Cup qualification</td>\n",
              "      <td>False</td>\n",
              "      <td>1993</td>\n",
              "      <td>8</td>\n",
              "      <td>67.0</td>\n",
              "      <td>22.0</td>\n",
              "      <td>1993-08-08</td>\n",
              "      <td>0.0</td>\n",
              "    </tr>\n",
              "  </tbody>\n",
              "</table>\n",
              "</div>"
            ],
            "text/plain": [
              "        date home_team     away_team  ...  previous_points  rank_date total_points\n",
              "0 1993-08-08   Bolivia       Uruguay  ...             13.0 1993-08-08          0.0\n",
              "1 1993-08-08    Brazil        Mexico  ...             55.0 1993-08-08          0.0\n",
              "2 1993-08-08   Ecuador     Venezuela  ...             23.0 1993-08-08          0.0\n",
              "3 1993-08-08    Guinea  Sierra Leone  ...             23.0 1993-08-08          0.0\n",
              "4 1993-08-08  Paraguay     Argentina  ...             22.0 1993-08-08          0.0\n",
              "\n",
              "[5 rows x 13 columns]"
            ]
          },
          "metadata": {
            "tags": []
          },
          "execution_count": 43
        }
      ]
    },
    {
      "cell_type": "code",
      "metadata": {
        "id": "7LYwz9-Zm-v0",
        "colab_type": "code",
        "outputId": "167e936f-ea09-452d-a93d-cb8237da4094",
        "colab": {
          "base_uri": "https://localhost:8080/",
          "height": 360
        }
      },
      "source": [
        "# changing rank to home team rank\n",
        "m_dataset.rename(columns={'rank':'home_team_rank'}, inplace=True)\n",
        "m_dataset.head()"
      ],
      "execution_count": 0,
      "outputs": [
        {
          "output_type": "execute_result",
          "data": {
            "text/html": [
              "<div>\n",
              "<style scoped>\n",
              "    .dataframe tbody tr th:only-of-type {\n",
              "        vertical-align: middle;\n",
              "    }\n",
              "\n",
              "    .dataframe tbody tr th {\n",
              "        vertical-align: top;\n",
              "    }\n",
              "\n",
              "    .dataframe thead th {\n",
              "        text-align: right;\n",
              "    }\n",
              "</style>\n",
              "<table border=\"1\" class=\"dataframe\">\n",
              "  <thead>\n",
              "    <tr style=\"text-align: right;\">\n",
              "      <th></th>\n",
              "      <th>date</th>\n",
              "      <th>home_team</th>\n",
              "      <th>away_team</th>\n",
              "      <th>home_score</th>\n",
              "      <th>away_score</th>\n",
              "      <th>tournament</th>\n",
              "      <th>neutral</th>\n",
              "      <th>year</th>\n",
              "      <th>month</th>\n",
              "      <th>home_team_rank</th>\n",
              "      <th>previous_points</th>\n",
              "      <th>rank_date</th>\n",
              "      <th>total_points</th>\n",
              "    </tr>\n",
              "  </thead>\n",
              "  <tbody>\n",
              "    <tr>\n",
              "      <th>0</th>\n",
              "      <td>1993-08-08</td>\n",
              "      <td>Bolivia</td>\n",
              "      <td>Uruguay</td>\n",
              "      <td>3</td>\n",
              "      <td>1</td>\n",
              "      <td>FIFA World Cup qualification</td>\n",
              "      <td>False</td>\n",
              "      <td>1993</td>\n",
              "      <td>8</td>\n",
              "      <td>59.0</td>\n",
              "      <td>13.0</td>\n",
              "      <td>1993-08-08</td>\n",
              "      <td>0.0</td>\n",
              "    </tr>\n",
              "    <tr>\n",
              "      <th>1</th>\n",
              "      <td>1993-08-08</td>\n",
              "      <td>Brazil</td>\n",
              "      <td>Mexico</td>\n",
              "      <td>1</td>\n",
              "      <td>1</td>\n",
              "      <td>Friendly</td>\n",
              "      <td>False</td>\n",
              "      <td>1993</td>\n",
              "      <td>8</td>\n",
              "      <td>8.0</td>\n",
              "      <td>55.0</td>\n",
              "      <td>1993-08-08</td>\n",
              "      <td>0.0</td>\n",
              "    </tr>\n",
              "    <tr>\n",
              "      <th>2</th>\n",
              "      <td>1993-08-08</td>\n",
              "      <td>Ecuador</td>\n",
              "      <td>Venezuela</td>\n",
              "      <td>5</td>\n",
              "      <td>0</td>\n",
              "      <td>FIFA World Cup qualification</td>\n",
              "      <td>False</td>\n",
              "      <td>1993</td>\n",
              "      <td>8</td>\n",
              "      <td>35.0</td>\n",
              "      <td>23.0</td>\n",
              "      <td>1993-08-08</td>\n",
              "      <td>0.0</td>\n",
              "    </tr>\n",
              "    <tr>\n",
              "      <th>3</th>\n",
              "      <td>1993-08-08</td>\n",
              "      <td>Guinea</td>\n",
              "      <td>Sierra Leone</td>\n",
              "      <td>1</td>\n",
              "      <td>0</td>\n",
              "      <td>Friendly</td>\n",
              "      <td>False</td>\n",
              "      <td>1993</td>\n",
              "      <td>8</td>\n",
              "      <td>65.0</td>\n",
              "      <td>23.0</td>\n",
              "      <td>1993-08-08</td>\n",
              "      <td>0.0</td>\n",
              "    </tr>\n",
              "    <tr>\n",
              "      <th>4</th>\n",
              "      <td>1993-08-08</td>\n",
              "      <td>Paraguay</td>\n",
              "      <td>Argentina</td>\n",
              "      <td>1</td>\n",
              "      <td>3</td>\n",
              "      <td>FIFA World Cup qualification</td>\n",
              "      <td>False</td>\n",
              "      <td>1993</td>\n",
              "      <td>8</td>\n",
              "      <td>67.0</td>\n",
              "      <td>22.0</td>\n",
              "      <td>1993-08-08</td>\n",
              "      <td>0.0</td>\n",
              "    </tr>\n",
              "  </tbody>\n",
              "</table>\n",
              "</div>"
            ],
            "text/plain": [
              "        date home_team     away_team  ...  previous_points  rank_date total_points\n",
              "0 1993-08-08   Bolivia       Uruguay  ...             13.0 1993-08-08          0.0\n",
              "1 1993-08-08    Brazil        Mexico  ...             55.0 1993-08-08          0.0\n",
              "2 1993-08-08   Ecuador     Venezuela  ...             23.0 1993-08-08          0.0\n",
              "3 1993-08-08    Guinea  Sierra Leone  ...             23.0 1993-08-08          0.0\n",
              "4 1993-08-08  Paraguay     Argentina  ...             22.0 1993-08-08          0.0\n",
              "\n",
              "[5 rows x 13 columns]"
            ]
          },
          "metadata": {
            "tags": []
          },
          "execution_count": 44
        }
      ]
    },
    {
      "cell_type": "code",
      "metadata": {
        "id": "E2usBbZMoYHX",
        "colab_type": "code",
        "outputId": "788735a2-3267-4d75-c66e-15446202167f",
        "colab": {
          "base_uri": "https://localhost:8080/",
          "height": 122
        }
      },
      "source": [
        "#fifa data we rename home team to away team so we can get it to merge and draw the rank from it\n",
        "fifa_new.rename({'home_team': 'away_team'},axis=1, inplace=True)"
      ],
      "execution_count": 0,
      "outputs": [
        {
          "output_type": "stream",
          "text": [
            "/usr/local/lib/python3.6/dist-packages/pandas/core/frame.py:4238: SettingWithCopyWarning: \n",
            "A value is trying to be set on a copy of a slice from a DataFrame\n",
            "\n",
            "See the caveats in the documentation: http://pandas.pydata.org/pandas-docs/stable/user_guide/indexing.html#returning-a-view-versus-a-copy\n",
            "  return super().rename(**kwargs)\n"
          ],
          "name": "stderr"
        }
      ]
    },
    {
      "cell_type": "code",
      "metadata": {
        "id": "DXp1OmH1tchj",
        "colab_type": "code",
        "outputId": "4c252811-1f08-42bf-9ca9-e50fd51c4277",
        "colab": {
          "base_uri": "https://localhost:8080/",
          "height": 745
        }
      },
      "source": [
        "#this is thedataset we have after all the changes\n",
        "final_dataset= pd.merge(m_dataset,fifa_new, how='left', on=['away_team', 'year', 'month'])\n",
        "final_dataset"
      ],
      "execution_count": 0,
      "outputs": [
        {
          "output_type": "execute_result",
          "data": {
            "text/html": [
              "<div>\n",
              "<style scoped>\n",
              "    .dataframe tbody tr th:only-of-type {\n",
              "        vertical-align: middle;\n",
              "    }\n",
              "\n",
              "    .dataframe tbody tr th {\n",
              "        vertical-align: top;\n",
              "    }\n",
              "\n",
              "    .dataframe thead th {\n",
              "        text-align: right;\n",
              "    }\n",
              "</style>\n",
              "<table border=\"1\" class=\"dataframe\">\n",
              "  <thead>\n",
              "    <tr style=\"text-align: right;\">\n",
              "      <th></th>\n",
              "      <th>date</th>\n",
              "      <th>home_team</th>\n",
              "      <th>away_team</th>\n",
              "      <th>home_score</th>\n",
              "      <th>away_score</th>\n",
              "      <th>tournament</th>\n",
              "      <th>neutral</th>\n",
              "      <th>year</th>\n",
              "      <th>month</th>\n",
              "      <th>home_team_rank</th>\n",
              "      <th>previous_points_x</th>\n",
              "      <th>rank_date_x</th>\n",
              "      <th>total_points_x</th>\n",
              "      <th>rank</th>\n",
              "      <th>previous_points_y</th>\n",
              "      <th>rank_date_y</th>\n",
              "      <th>total_points_y</th>\n",
              "    </tr>\n",
              "  </thead>\n",
              "  <tbody>\n",
              "    <tr>\n",
              "      <th>0</th>\n",
              "      <td>1993-08-08</td>\n",
              "      <td>Bolivia</td>\n",
              "      <td>Uruguay</td>\n",
              "      <td>3</td>\n",
              "      <td>1</td>\n",
              "      <td>FIFA World Cup qualification</td>\n",
              "      <td>False</td>\n",
              "      <td>1993</td>\n",
              "      <td>8</td>\n",
              "      <td>59.0</td>\n",
              "      <td>13.0</td>\n",
              "      <td>1993-08-08</td>\n",
              "      <td>0.0</td>\n",
              "      <td>22.0</td>\n",
              "      <td>47.0</td>\n",
              "      <td>1993-08-08</td>\n",
              "      <td>0.0</td>\n",
              "    </tr>\n",
              "    <tr>\n",
              "      <th>1</th>\n",
              "      <td>1993-08-08</td>\n",
              "      <td>Brazil</td>\n",
              "      <td>Mexico</td>\n",
              "      <td>1</td>\n",
              "      <td>1</td>\n",
              "      <td>Friendly</td>\n",
              "      <td>False</td>\n",
              "      <td>1993</td>\n",
              "      <td>8</td>\n",
              "      <td>8.0</td>\n",
              "      <td>55.0</td>\n",
              "      <td>1993-08-08</td>\n",
              "      <td>0.0</td>\n",
              "      <td>14.0</td>\n",
              "      <td>42.0</td>\n",
              "      <td>1993-08-08</td>\n",
              "      <td>0.0</td>\n",
              "    </tr>\n",
              "    <tr>\n",
              "      <th>2</th>\n",
              "      <td>1993-08-08</td>\n",
              "      <td>Ecuador</td>\n",
              "      <td>Venezuela</td>\n",
              "      <td>5</td>\n",
              "      <td>0</td>\n",
              "      <td>FIFA World Cup qualification</td>\n",
              "      <td>False</td>\n",
              "      <td>1993</td>\n",
              "      <td>8</td>\n",
              "      <td>35.0</td>\n",
              "      <td>23.0</td>\n",
              "      <td>1993-08-08</td>\n",
              "      <td>0.0</td>\n",
              "      <td>94.0</td>\n",
              "      <td>4.0</td>\n",
              "      <td>1993-08-08</td>\n",
              "      <td>0.0</td>\n",
              "    </tr>\n",
              "    <tr>\n",
              "      <th>3</th>\n",
              "      <td>1993-08-08</td>\n",
              "      <td>Guinea</td>\n",
              "      <td>Sierra Leone</td>\n",
              "      <td>1</td>\n",
              "      <td>0</td>\n",
              "      <td>Friendly</td>\n",
              "      <td>False</td>\n",
              "      <td>1993</td>\n",
              "      <td>8</td>\n",
              "      <td>65.0</td>\n",
              "      <td>23.0</td>\n",
              "      <td>1993-08-08</td>\n",
              "      <td>0.0</td>\n",
              "      <td>86.0</td>\n",
              "      <td>16.0</td>\n",
              "      <td>1993-08-08</td>\n",
              "      <td>0.0</td>\n",
              "    </tr>\n",
              "    <tr>\n",
              "      <th>4</th>\n",
              "      <td>1993-08-08</td>\n",
              "      <td>Paraguay</td>\n",
              "      <td>Argentina</td>\n",
              "      <td>1</td>\n",
              "      <td>3</td>\n",
              "      <td>FIFA World Cup qualification</td>\n",
              "      <td>False</td>\n",
              "      <td>1993</td>\n",
              "      <td>8</td>\n",
              "      <td>67.0</td>\n",
              "      <td>22.0</td>\n",
              "      <td>1993-08-08</td>\n",
              "      <td>0.0</td>\n",
              "      <td>5.0</td>\n",
              "      <td>51.0</td>\n",
              "      <td>1993-08-08</td>\n",
              "      <td>0.0</td>\n",
              "    </tr>\n",
              "    <tr>\n",
              "      <th>...</th>\n",
              "      <td>...</td>\n",
              "      <td>...</td>\n",
              "      <td>...</td>\n",
              "      <td>...</td>\n",
              "      <td>...</td>\n",
              "      <td>...</td>\n",
              "      <td>...</td>\n",
              "      <td>...</td>\n",
              "      <td>...</td>\n",
              "      <td>...</td>\n",
              "      <td>...</td>\n",
              "      <td>...</td>\n",
              "      <td>...</td>\n",
              "      <td>...</td>\n",
              "      <td>...</td>\n",
              "      <td>...</td>\n",
              "      <td>...</td>\n",
              "    </tr>\n",
              "    <tr>\n",
              "      <th>22108</th>\n",
              "      <td>2018-06-07</td>\n",
              "      <td>Abkhazia</td>\n",
              "      <td>United Koreans in Japan</td>\n",
              "      <td>2</td>\n",
              "      <td>0</td>\n",
              "      <td>CONIFA World Football Cup</td>\n",
              "      <td>True</td>\n",
              "      <td>2018</td>\n",
              "      <td>6</td>\n",
              "      <td>NaN</td>\n",
              "      <td>NaN</td>\n",
              "      <td>NaT</td>\n",
              "      <td>NaN</td>\n",
              "      <td>NaN</td>\n",
              "      <td>NaN</td>\n",
              "      <td>NaT</td>\n",
              "      <td>NaN</td>\n",
              "    </tr>\n",
              "    <tr>\n",
              "      <th>22109</th>\n",
              "      <td>2018-06-07</td>\n",
              "      <td>Barawa</td>\n",
              "      <td>Panjab</td>\n",
              "      <td>0</td>\n",
              "      <td>5</td>\n",
              "      <td>CONIFA World Football Cup</td>\n",
              "      <td>False</td>\n",
              "      <td>2018</td>\n",
              "      <td>6</td>\n",
              "      <td>NaN</td>\n",
              "      <td>NaN</td>\n",
              "      <td>NaT</td>\n",
              "      <td>NaN</td>\n",
              "      <td>NaN</td>\n",
              "      <td>NaN</td>\n",
              "      <td>NaT</td>\n",
              "      <td>NaN</td>\n",
              "    </tr>\n",
              "    <tr>\n",
              "      <th>22110</th>\n",
              "      <td>2018-06-07</td>\n",
              "      <td>Cascadia</td>\n",
              "      <td>Western Armenia</td>\n",
              "      <td>4</td>\n",
              "      <td>0</td>\n",
              "      <td>CONIFA World Football Cup</td>\n",
              "      <td>True</td>\n",
              "      <td>2018</td>\n",
              "      <td>6</td>\n",
              "      <td>NaN</td>\n",
              "      <td>NaN</td>\n",
              "      <td>NaT</td>\n",
              "      <td>NaN</td>\n",
              "      <td>NaN</td>\n",
              "      <td>NaN</td>\n",
              "      <td>NaT</td>\n",
              "      <td>NaN</td>\n",
              "    </tr>\n",
              "    <tr>\n",
              "      <th>22111</th>\n",
              "      <td>2018-06-07</td>\n",
              "      <td>Northern Cyprus</td>\n",
              "      <td>Padania</td>\n",
              "      <td>3</td>\n",
              "      <td>2</td>\n",
              "      <td>CONIFA World Football Cup</td>\n",
              "      <td>True</td>\n",
              "      <td>2018</td>\n",
              "      <td>6</td>\n",
              "      <td>NaN</td>\n",
              "      <td>NaN</td>\n",
              "      <td>NaT</td>\n",
              "      <td>NaN</td>\n",
              "      <td>NaN</td>\n",
              "      <td>NaN</td>\n",
              "      <td>NaT</td>\n",
              "      <td>NaN</td>\n",
              "    </tr>\n",
              "    <tr>\n",
              "      <th>22112</th>\n",
              "      <td>2018-06-07</td>\n",
              "      <td>Kárpátalja</td>\n",
              "      <td>Székely Land</td>\n",
              "      <td>4</td>\n",
              "      <td>2</td>\n",
              "      <td>CONIFA World Football Cup</td>\n",
              "      <td>True</td>\n",
              "      <td>2018</td>\n",
              "      <td>6</td>\n",
              "      <td>NaN</td>\n",
              "      <td>NaN</td>\n",
              "      <td>NaT</td>\n",
              "      <td>NaN</td>\n",
              "      <td>NaN</td>\n",
              "      <td>NaN</td>\n",
              "      <td>NaT</td>\n",
              "      <td>NaN</td>\n",
              "    </tr>\n",
              "  </tbody>\n",
              "</table>\n",
              "<p>22113 rows × 17 columns</p>\n",
              "</div>"
            ],
            "text/plain": [
              "            date        home_team  ... rank_date_y  total_points_y\n",
              "0     1993-08-08          Bolivia  ...  1993-08-08             0.0\n",
              "1     1993-08-08           Brazil  ...  1993-08-08             0.0\n",
              "2     1993-08-08          Ecuador  ...  1993-08-08             0.0\n",
              "3     1993-08-08           Guinea  ...  1993-08-08             0.0\n",
              "4     1993-08-08         Paraguay  ...  1993-08-08             0.0\n",
              "...          ...              ...  ...         ...             ...\n",
              "22108 2018-06-07         Abkhazia  ...         NaT             NaN\n",
              "22109 2018-06-07           Barawa  ...         NaT             NaN\n",
              "22110 2018-06-07         Cascadia  ...         NaT             NaN\n",
              "22111 2018-06-07  Northern Cyprus  ...         NaT             NaN\n",
              "22112 2018-06-07       Kárpátalja  ...         NaT             NaN\n",
              "\n",
              "[22113 rows x 17 columns]"
            ]
          },
          "metadata": {
            "tags": []
          },
          "execution_count": 46
        }
      ]
    },
    {
      "cell_type": "code",
      "metadata": {
        "id": "MEZidbVvtx0z",
        "colab_type": "code",
        "outputId": "3b5d2de7-2afe-44bc-efe8-4afc6669542b",
        "colab": {
          "base_uri": "https://localhost:8080/",
          "height": 360
        }
      },
      "source": [
        "#lets now rename the remainder claiming x to home and y to away\n",
        "final_dataset.rename(columns={'rank':'away_team_rank','previous_points_x':'home_previous_points','rank_date_x':'home_rank_date',\n",
        "                      'previous_points_y':'away_previous_points','rank_date_y':'away_rank_date'}, inplace=True)\n",
        "final_dataset.head()"
      ],
      "execution_count": 0,
      "outputs": [
        {
          "output_type": "execute_result",
          "data": {
            "text/html": [
              "<div>\n",
              "<style scoped>\n",
              "    .dataframe tbody tr th:only-of-type {\n",
              "        vertical-align: middle;\n",
              "    }\n",
              "\n",
              "    .dataframe tbody tr th {\n",
              "        vertical-align: top;\n",
              "    }\n",
              "\n",
              "    .dataframe thead th {\n",
              "        text-align: right;\n",
              "    }\n",
              "</style>\n",
              "<table border=\"1\" class=\"dataframe\">\n",
              "  <thead>\n",
              "    <tr style=\"text-align: right;\">\n",
              "      <th></th>\n",
              "      <th>date</th>\n",
              "      <th>home_team</th>\n",
              "      <th>away_team</th>\n",
              "      <th>home_score</th>\n",
              "      <th>away_score</th>\n",
              "      <th>tournament</th>\n",
              "      <th>neutral</th>\n",
              "      <th>year</th>\n",
              "      <th>month</th>\n",
              "      <th>home_team_rank</th>\n",
              "      <th>home_previous_points</th>\n",
              "      <th>home_rank_date</th>\n",
              "      <th>total_points_x</th>\n",
              "      <th>away_team_rank</th>\n",
              "      <th>away_previous_points</th>\n",
              "      <th>away_rank_date</th>\n",
              "      <th>total_points_y</th>\n",
              "    </tr>\n",
              "  </thead>\n",
              "  <tbody>\n",
              "    <tr>\n",
              "      <th>0</th>\n",
              "      <td>1993-08-08</td>\n",
              "      <td>Bolivia</td>\n",
              "      <td>Uruguay</td>\n",
              "      <td>3</td>\n",
              "      <td>1</td>\n",
              "      <td>FIFA World Cup qualification</td>\n",
              "      <td>False</td>\n",
              "      <td>1993</td>\n",
              "      <td>8</td>\n",
              "      <td>59.0</td>\n",
              "      <td>13.0</td>\n",
              "      <td>1993-08-08</td>\n",
              "      <td>0.0</td>\n",
              "      <td>22.0</td>\n",
              "      <td>47.0</td>\n",
              "      <td>1993-08-08</td>\n",
              "      <td>0.0</td>\n",
              "    </tr>\n",
              "    <tr>\n",
              "      <th>1</th>\n",
              "      <td>1993-08-08</td>\n",
              "      <td>Brazil</td>\n",
              "      <td>Mexico</td>\n",
              "      <td>1</td>\n",
              "      <td>1</td>\n",
              "      <td>Friendly</td>\n",
              "      <td>False</td>\n",
              "      <td>1993</td>\n",
              "      <td>8</td>\n",
              "      <td>8.0</td>\n",
              "      <td>55.0</td>\n",
              "      <td>1993-08-08</td>\n",
              "      <td>0.0</td>\n",
              "      <td>14.0</td>\n",
              "      <td>42.0</td>\n",
              "      <td>1993-08-08</td>\n",
              "      <td>0.0</td>\n",
              "    </tr>\n",
              "    <tr>\n",
              "      <th>2</th>\n",
              "      <td>1993-08-08</td>\n",
              "      <td>Ecuador</td>\n",
              "      <td>Venezuela</td>\n",
              "      <td>5</td>\n",
              "      <td>0</td>\n",
              "      <td>FIFA World Cup qualification</td>\n",
              "      <td>False</td>\n",
              "      <td>1993</td>\n",
              "      <td>8</td>\n",
              "      <td>35.0</td>\n",
              "      <td>23.0</td>\n",
              "      <td>1993-08-08</td>\n",
              "      <td>0.0</td>\n",
              "      <td>94.0</td>\n",
              "      <td>4.0</td>\n",
              "      <td>1993-08-08</td>\n",
              "      <td>0.0</td>\n",
              "    </tr>\n",
              "    <tr>\n",
              "      <th>3</th>\n",
              "      <td>1993-08-08</td>\n",
              "      <td>Guinea</td>\n",
              "      <td>Sierra Leone</td>\n",
              "      <td>1</td>\n",
              "      <td>0</td>\n",
              "      <td>Friendly</td>\n",
              "      <td>False</td>\n",
              "      <td>1993</td>\n",
              "      <td>8</td>\n",
              "      <td>65.0</td>\n",
              "      <td>23.0</td>\n",
              "      <td>1993-08-08</td>\n",
              "      <td>0.0</td>\n",
              "      <td>86.0</td>\n",
              "      <td>16.0</td>\n",
              "      <td>1993-08-08</td>\n",
              "      <td>0.0</td>\n",
              "    </tr>\n",
              "    <tr>\n",
              "      <th>4</th>\n",
              "      <td>1993-08-08</td>\n",
              "      <td>Paraguay</td>\n",
              "      <td>Argentina</td>\n",
              "      <td>1</td>\n",
              "      <td>3</td>\n",
              "      <td>FIFA World Cup qualification</td>\n",
              "      <td>False</td>\n",
              "      <td>1993</td>\n",
              "      <td>8</td>\n",
              "      <td>67.0</td>\n",
              "      <td>22.0</td>\n",
              "      <td>1993-08-08</td>\n",
              "      <td>0.0</td>\n",
              "      <td>5.0</td>\n",
              "      <td>51.0</td>\n",
              "      <td>1993-08-08</td>\n",
              "      <td>0.0</td>\n",
              "    </tr>\n",
              "  </tbody>\n",
              "</table>\n",
              "</div>"
            ],
            "text/plain": [
              "        date home_team  ... away_rank_date  total_points_y\n",
              "0 1993-08-08   Bolivia  ...     1993-08-08             0.0\n",
              "1 1993-08-08    Brazil  ...     1993-08-08             0.0\n",
              "2 1993-08-08   Ecuador  ...     1993-08-08             0.0\n",
              "3 1993-08-08    Guinea  ...     1993-08-08             0.0\n",
              "4 1993-08-08  Paraguay  ...     1993-08-08             0.0\n",
              "\n",
              "[5 rows x 17 columns]"
            ]
          },
          "metadata": {
            "tags": []
          },
          "execution_count": 47
        }
      ]
    },
    {
      "cell_type": "code",
      "metadata": {
        "id": "X_wrxGWVuKjg",
        "colab_type": "code",
        "colab": {}
      },
      "source": [
        "#drop total points\n",
        "final_dataset.drop(['total_points_x','total_points_y'],axis=1,inplace=True)"
      ],
      "execution_count": 0,
      "outputs": []
    },
    {
      "cell_type": "markdown",
      "metadata": {
        "id": "XDUc8SDt7MLT",
        "colab_type": "text"
      },
      "source": [
        "# 2.1 Checking for outliers"
      ]
    },
    {
      "cell_type": "code",
      "metadata": {
        "id": "aQzjkFVEvI4d",
        "colab_type": "code",
        "outputId": "82e8a47e-20a2-479c-9d3b-ef156b4881df",
        "colab": {
          "base_uri": "https://localhost:8080/",
          "height": 655
        }
      },
      "source": [
        "\n",
        "# Creating a list of colors to zip with columns \n",
        "\n",
        "column_list = ['home_score', 'home_team_rank', 'away_score', 'away_team_rank','home_previous_points','away_previous_points']\n",
        "colors = ['blueviolet', 'darkorange', 'springgreen', 'fuchsia','darkorange','springgreen']\n",
        "\n",
        "# Plotting boxplots of the col_list columns to check for outliers\n",
        "#\n",
        "fig, axes = plt.subplots(nrows = 2, ncols = 3, figsize = (15, 10))\n",
        "plt.suptitle('Checking for outliers using boxplots', fontsize = 15, y = 0.92, color = 'indigo')\n",
        "for ax, data, column, color in zip(axes.flatten(), final_dataset, column_list, colors):\n",
        "  sns.boxplot(final_dataset[column], ax = ax, color = color)\n",
        "  ax.set_facecolor('lavender') \n",
        "  #we wont drop outliers for they take up most of our data"
      ],
      "execution_count": 0,
      "outputs": [
        {
          "output_type": "display_data",
          "data": {
            "image/png": "[encoded data removed]",
            "text/plain": [
              "<Figure size 1080x720 with 6 Axes>"
            ]
          },
          "metadata": {
            "tags": []
          }
        }
      ]
    },
    {
      "cell_type": "code",
      "metadata": {
        "id": "MCvqUwG0uqR6",
        "colab_type": "code",
        "outputId": "7e08af2b-ad60-4d64-e68d-967732827780",
        "colab": {
          "base_uri": "https://localhost:8080/",
          "height": 289
        }
      },
      "source": [
        "#check for null values\n",
        "final_dataset.isnull().sum()"
      ],
      "execution_count": 0,
      "outputs": [
        {
          "output_type": "execute_result",
          "data": {
            "text/plain": [
              "date                       0\n",
              "home_team                  0\n",
              "away_team                  0\n",
              "home_score                 0\n",
              "away_score                 0\n",
              "tournament                 0\n",
              "neutral                    0\n",
              "year                       0\n",
              "month                      0\n",
              "home_team_rank          3454\n",
              "home_previous_points    3454\n",
              "home_rank_date          3454\n",
              "away_team_rank          3545\n",
              "away_previous_points    3545\n",
              "away_rank_date          3545\n",
              "dtype: int64"
            ]
          },
          "metadata": {
            "tags": []
          },
          "execution_count": 50
        }
      ]
    },
    {
      "cell_type": "code",
      "metadata": {
        "id": "1ZJFr37eu9Bb",
        "colab_type": "code",
        "colab": {}
      },
      "source": [
        "#Replacing missing values with median. Reason: Column has outlier hence median is better than mean.\n",
        "final_dataset['home_team_rank'].fillna((final_dataset['home_team_rank'].median()), inplace=True)\n",
        "final_dataset['home_previous_points'].fillna((final_dataset['home_previous_points'].median()), inplace=True)\n",
        "final_dataset['home_rank_date'].fillna((final_dataset['away_team_rank'].median()), inplace=True)\n",
        "final_dataset['away_team_rank'].fillna((final_dataset['away_team_rank'].median()), inplace=True)\n",
        "final_dataset['away_previous_points'].fillna((final_dataset['away_previous_points'].median()), inplace=True)\n"
      ],
      "execution_count": 0,
      "outputs": []
    },
    {
      "cell_type": "code",
      "metadata": {
        "id": "q2nRlzCeYPWF",
        "colab_type": "code",
        "colab": {}
      },
      "source": [
        "# final_dataset.drop(['away_rank_date'])"
      ],
      "execution_count": 0,
      "outputs": []
    },
    {
      "cell_type": "code",
      "metadata": {
        "id": "S0B-gFgRQOgx",
        "colab_type": "code",
        "outputId": "47a9e321-af1a-4138-ec85-91556e9a9550",
        "colab": {
          "base_uri": "https://localhost:8080/",
          "height": 289
        }
      },
      "source": [
        "#we use this code for checking null values\n",
        "final_dataset.isnull().sum()"
      ],
      "execution_count": 0,
      "outputs": [
        {
          "output_type": "execute_result",
          "data": {
            "text/plain": [
              "date                       0\n",
              "home_team                  0\n",
              "away_team                  0\n",
              "home_score                 0\n",
              "away_score                 0\n",
              "tournament                 0\n",
              "neutral                    0\n",
              "year                       0\n",
              "month                      0\n",
              "home_team_rank             0\n",
              "home_previous_points       0\n",
              "home_rank_date             0\n",
              "away_team_rank             0\n",
              "away_previous_points       0\n",
              "away_rank_date          3545\n",
              "dtype: int64"
            ]
          },
          "metadata": {
            "tags": []
          },
          "execution_count": 52
        }
      ]
    },
    {
      "cell_type": "code",
      "metadata": {
        "id": "-aSd5cRN7YWJ",
        "colab_type": "code",
        "outputId": "72751fcc-0ead-4903-c557-64ed311a3e0a",
        "colab": {
          "base_uri": "https://localhost:8080/",
          "height": 275
        }
      },
      "source": [
        "#we use this code for checking for duplicates in our data.\n",
        "final_dataset.duplicated"
      ],
      "execution_count": 0,
      "outputs": [
        {
          "output_type": "execute_result",
          "data": {
            "text/plain": [
              "<bound method DataFrame.duplicated of             date        home_team  ... away_previous_points  away_rank_date\n",
              "0     1993-08-08          Bolivia  ...                 47.0      1993-08-08\n",
              "1     1993-08-08           Brazil  ...                 42.0      1993-08-08\n",
              "2     1993-08-08          Ecuador  ...                  4.0      1993-08-08\n",
              "3     1993-08-08           Guinea  ...                 16.0      1993-08-08\n",
              "4     1993-08-08         Paraguay  ...                 51.0      1993-08-08\n",
              "...          ...              ...  ...                  ...             ...\n",
              "22108 2018-06-07         Abkhazia  ...                406.0             NaT\n",
              "22109 2018-06-07           Barawa  ...                406.0             NaT\n",
              "22110 2018-06-07         Cascadia  ...                406.0             NaT\n",
              "22111 2018-06-07  Northern Cyprus  ...                406.0             NaT\n",
              "22112 2018-06-07       Kárpátalja  ...                406.0             NaT\n",
              "\n",
              "[22113 rows x 15 columns]>"
            ]
          },
          "metadata": {
            "tags": []
          },
          "execution_count": 53
        }
      ]
    },
    {
      "cell_type": "code",
      "metadata": {
        "id": "Fpi1tMnk8csI",
        "colab_type": "code",
        "outputId": "5e89d6a9-a8f3-47a8-9dac-616b5e1d6e4d",
        "colab": {
          "base_uri": "https://localhost:8080/",
          "height": 275
        }
      },
      "source": [
        "#if any they are dropped\n",
        "final_dataset.drop_duplicates"
      ],
      "execution_count": 0,
      "outputs": [
        {
          "output_type": "execute_result",
          "data": {
            "text/plain": [
              "<bound method DataFrame.drop_duplicates of             date        home_team  ... away_previous_points  away_rank_date\n",
              "0     1993-08-08          Bolivia  ...                 47.0      1993-08-08\n",
              "1     1993-08-08           Brazil  ...                 42.0      1993-08-08\n",
              "2     1993-08-08          Ecuador  ...                  4.0      1993-08-08\n",
              "3     1993-08-08           Guinea  ...                 16.0      1993-08-08\n",
              "4     1993-08-08         Paraguay  ...                 51.0      1993-08-08\n",
              "...          ...              ...  ...                  ...             ...\n",
              "22108 2018-06-07         Abkhazia  ...                406.0             NaT\n",
              "22109 2018-06-07           Barawa  ...                406.0             NaT\n",
              "22110 2018-06-07         Cascadia  ...                406.0             NaT\n",
              "22111 2018-06-07  Northern Cyprus  ...                406.0             NaT\n",
              "22112 2018-06-07       Kárpátalja  ...                406.0             NaT\n",
              "\n",
              "[22113 rows x 15 columns]>"
            ]
          },
          "metadata": {
            "tags": []
          },
          "execution_count": 54
        }
      ]
    },
    {
      "cell_type": "code",
      "metadata": {
        "id": "RfqKMoK4RaHW",
        "colab_type": "code",
        "outputId": "526aa782-2b5a-4c9f-e370-26f61ce380af",
        "colab": {
          "base_uri": "https://localhost:8080/",
          "height": 34
        }
      },
      "source": [
        "#no duplicates so we check if our data is still intact\n",
        "final_dataset.shape"
      ],
      "execution_count": 0,
      "outputs": [
        {
          "output_type": "execute_result",
          "data": {
            "text/plain": [
              "(22113, 15)"
            ]
          },
          "metadata": {
            "tags": []
          },
          "execution_count": 55
        }
      ]
    },
    {
      "cell_type": "code",
      "metadata": {
        "id": "8KYjzP6CRglE",
        "colab_type": "code",
        "colab": {}
      },
      "source": [
        "#now to get back to our problem statement check the tournament friendly games and realstuff\n",
        "\n",
        "#Tournament type (World cup, Friendly, Other)\n",
        "\n",
        "def tournament(game):\n",
        "  if game == 'FIFA World Cup qualification':\n",
        "    return 'WorldCup'\n",
        "  if game == 'Friendly':\n",
        "    return 'Friendly'\n",
        "  else:\n",
        "    return 'other'\n",
        "final_dataset['game']=final_dataset['tournament'].apply(lambda x: tournament(x))"
      ],
      "execution_count": 0,
      "outputs": []
    },
    {
      "cell_type": "code",
      "metadata": {
        "id": "DiKQcoEBUK67",
        "colab_type": "code",
        "outputId": "352efdea-4296-4034-f638-9211a5164b26",
        "colab": {
          "base_uri": "https://localhost:8080/",
          "height": 360
        }
      },
      "source": [
        "final_dataset.head()"
      ],
      "execution_count": 0,
      "outputs": [
        {
          "output_type": "execute_result",
          "data": {
            "text/html": [
              "<div>\n",
              "<style scoped>\n",
              "    .dataframe tbody tr th:only-of-type {\n",
              "        vertical-align: middle;\n",
              "    }\n",
              "\n",
              "    .dataframe tbody tr th {\n",
              "        vertical-align: top;\n",
              "    }\n",
              "\n",
              "    .dataframe thead th {\n",
              "        text-align: right;\n",
              "    }\n",
              "</style>\n",
              "<table border=\"1\" class=\"dataframe\">\n",
              "  <thead>\n",
              "    <tr style=\"text-align: right;\">\n",
              "      <th></th>\n",
              "      <th>date</th>\n",
              "      <th>home_team</th>\n",
              "      <th>away_team</th>\n",
              "      <th>home_score</th>\n",
              "      <th>away_score</th>\n",
              "      <th>tournament</th>\n",
              "      <th>neutral</th>\n",
              "      <th>year</th>\n",
              "      <th>month</th>\n",
              "      <th>home_team_rank</th>\n",
              "      <th>home_previous_points</th>\n",
              "      <th>home_rank_date</th>\n",
              "      <th>away_team_rank</th>\n",
              "      <th>away_previous_points</th>\n",
              "      <th>away_rank_date</th>\n",
              "      <th>game</th>\n",
              "    </tr>\n",
              "  </thead>\n",
              "  <tbody>\n",
              "    <tr>\n",
              "      <th>0</th>\n",
              "      <td>1993-08-08</td>\n",
              "      <td>Bolivia</td>\n",
              "      <td>Uruguay</td>\n",
              "      <td>3</td>\n",
              "      <td>1</td>\n",
              "      <td>FIFA World Cup qualification</td>\n",
              "      <td>False</td>\n",
              "      <td>1993</td>\n",
              "      <td>8</td>\n",
              "      <td>59.0</td>\n",
              "      <td>13.0</td>\n",
              "      <td>1993-08-08 00:00:00</td>\n",
              "      <td>22.0</td>\n",
              "      <td>47.0</td>\n",
              "      <td>1993-08-08</td>\n",
              "      <td>WorldCup</td>\n",
              "    </tr>\n",
              "    <tr>\n",
              "      <th>1</th>\n",
              "      <td>1993-08-08</td>\n",
              "      <td>Brazil</td>\n",
              "      <td>Mexico</td>\n",
              "      <td>1</td>\n",
              "      <td>1</td>\n",
              "      <td>Friendly</td>\n",
              "      <td>False</td>\n",
              "      <td>1993</td>\n",
              "      <td>8</td>\n",
              "      <td>8.0</td>\n",
              "      <td>55.0</td>\n",
              "      <td>1993-08-08 00:00:00</td>\n",
              "      <td>14.0</td>\n",
              "      <td>42.0</td>\n",
              "      <td>1993-08-08</td>\n",
              "      <td>Friendly</td>\n",
              "    </tr>\n",
              "    <tr>\n",
              "      <th>2</th>\n",
              "      <td>1993-08-08</td>\n",
              "      <td>Ecuador</td>\n",
              "      <td>Venezuela</td>\n",
              "      <td>5</td>\n",
              "      <td>0</td>\n",
              "      <td>FIFA World Cup qualification</td>\n",
              "      <td>False</td>\n",
              "      <td>1993</td>\n",
              "      <td>8</td>\n",
              "      <td>35.0</td>\n",
              "      <td>23.0</td>\n",
              "      <td>1993-08-08 00:00:00</td>\n",
              "      <td>94.0</td>\n",
              "      <td>4.0</td>\n",
              "      <td>1993-08-08</td>\n",
              "      <td>WorldCup</td>\n",
              "    </tr>\n",
              "    <tr>\n",
              "      <th>3</th>\n",
              "      <td>1993-08-08</td>\n",
              "      <td>Guinea</td>\n",
              "      <td>Sierra Leone</td>\n",
              "      <td>1</td>\n",
              "      <td>0</td>\n",
              "      <td>Friendly</td>\n",
              "      <td>False</td>\n",
              "      <td>1993</td>\n",
              "      <td>8</td>\n",
              "      <td>65.0</td>\n",
              "      <td>23.0</td>\n",
              "      <td>1993-08-08 00:00:00</td>\n",
              "      <td>86.0</td>\n",
              "      <td>16.0</td>\n",
              "      <td>1993-08-08</td>\n",
              "      <td>Friendly</td>\n",
              "    </tr>\n",
              "    <tr>\n",
              "      <th>4</th>\n",
              "      <td>1993-08-08</td>\n",
              "      <td>Paraguay</td>\n",
              "      <td>Argentina</td>\n",
              "      <td>1</td>\n",
              "      <td>3</td>\n",
              "      <td>FIFA World Cup qualification</td>\n",
              "      <td>False</td>\n",
              "      <td>1993</td>\n",
              "      <td>8</td>\n",
              "      <td>67.0</td>\n",
              "      <td>22.0</td>\n",
              "      <td>1993-08-08 00:00:00</td>\n",
              "      <td>5.0</td>\n",
              "      <td>51.0</td>\n",
              "      <td>1993-08-08</td>\n",
              "      <td>WorldCup</td>\n",
              "    </tr>\n",
              "  </tbody>\n",
              "</table>\n",
              "</div>"
            ],
            "text/plain": [
              "        date home_team  ... away_rank_date      game\n",
              "0 1993-08-08   Bolivia  ...     1993-08-08  WorldCup\n",
              "1 1993-08-08    Brazil  ...     1993-08-08  Friendly\n",
              "2 1993-08-08   Ecuador  ...     1993-08-08  WorldCup\n",
              "3 1993-08-08    Guinea  ...     1993-08-08  Friendly\n",
              "4 1993-08-08  Paraguay  ...     1993-08-08  WorldCup\n",
              "\n",
              "[5 rows x 16 columns]"
            ]
          },
          "metadata": {
            "tags": []
          },
          "execution_count": 57
        }
      ]
    },
    {
      "cell_type": "code",
      "metadata": {
        "id": "BjQsZo-oUPig",
        "colab_type": "code",
        "outputId": "37233caa-3eb7-42ac-db01-783e1adee223",
        "colab": {
          "base_uri": "https://localhost:8080/",
          "height": 134
        }
      },
      "source": [
        "#use this code to see by how many points does home distance away.Just for eyeballing\n",
        "final_dataset['subtract'] = final_dataset['home_score'] - final_dataset['away_score']\n",
        "final_dataset.head(1)"
      ],
      "execution_count": 0,
      "outputs": [
        {
          "output_type": "execute_result",
          "data": {
            "text/html": [
              "<div>\n",
              "<style scoped>\n",
              "    .dataframe tbody tr th:only-of-type {\n",
              "        vertical-align: middle;\n",
              "    }\n",
              "\n",
              "    .dataframe tbody tr th {\n",
              "        vertical-align: top;\n",
              "    }\n",
              "\n",
              "    .dataframe thead th {\n",
              "        text-align: right;\n",
              "    }\n",
              "</style>\n",
              "<table border=\"1\" class=\"dataframe\">\n",
              "  <thead>\n",
              "    <tr style=\"text-align: right;\">\n",
              "      <th></th>\n",
              "      <th>date</th>\n",
              "      <th>home_team</th>\n",
              "      <th>away_team</th>\n",
              "      <th>home_score</th>\n",
              "      <th>away_score</th>\n",
              "      <th>tournament</th>\n",
              "      <th>neutral</th>\n",
              "      <th>year</th>\n",
              "      <th>month</th>\n",
              "      <th>home_team_rank</th>\n",
              "      <th>home_previous_points</th>\n",
              "      <th>home_rank_date</th>\n",
              "      <th>away_team_rank</th>\n",
              "      <th>away_previous_points</th>\n",
              "      <th>away_rank_date</th>\n",
              "      <th>game</th>\n",
              "      <th>subtract</th>\n",
              "    </tr>\n",
              "  </thead>\n",
              "  <tbody>\n",
              "    <tr>\n",
              "      <th>0</th>\n",
              "      <td>1993-08-08</td>\n",
              "      <td>Bolivia</td>\n",
              "      <td>Uruguay</td>\n",
              "      <td>3</td>\n",
              "      <td>1</td>\n",
              "      <td>FIFA World Cup qualification</td>\n",
              "      <td>False</td>\n",
              "      <td>1993</td>\n",
              "      <td>8</td>\n",
              "      <td>59.0</td>\n",
              "      <td>13.0</td>\n",
              "      <td>1993-08-08 00:00:00</td>\n",
              "      <td>22.0</td>\n",
              "      <td>47.0</td>\n",
              "      <td>1993-08-08</td>\n",
              "      <td>WorldCup</td>\n",
              "      <td>2</td>\n",
              "    </tr>\n",
              "  </tbody>\n",
              "</table>\n",
              "</div>"
            ],
            "text/plain": [
              "        date home_team away_team  ...  away_rank_date      game subtract\n",
              "0 1993-08-08   Bolivia   Uruguay  ...      1993-08-08  WorldCup        2\n",
              "\n",
              "[1 rows x 17 columns]"
            ]
          },
          "metadata": {
            "tags": []
          },
          "execution_count": 58
        }
      ]
    },
    {
      "cell_type": "code",
      "metadata": {
        "id": "3mfGDUKmXHWI",
        "colab_type": "code",
        "colab": {}
      },
      "source": [
        "#function to write a column on that can show the scores if won,draw,lost game\n",
        "def subtract (comment):\n",
        "  if comment > 0:\n",
        "    return 'won game'\n",
        "  if comment < 0:\n",
        "    return 'lost game'\n",
        "  elif comment == 0:\n",
        "    return 'draw'"
      ],
      "execution_count": 0,
      "outputs": []
    },
    {
      "cell_type": "code",
      "metadata": {
        "id": "rBLOkRs9VIY0",
        "colab_type": "code",
        "outputId": "8aeb8c69-d8b5-4496-91c6-6e22dd124138",
        "colab": {
          "base_uri": "https://localhost:8080/",
          "height": 182
        }
      },
      "source": [
        "\n",
        "#Figure out from the home team’s perspective if the game is a Win, Lose or Draw (W, L, D)\n",
        "final_dataset['comment']=final_dataset['subtract'].apply(lambda x: subtract(x))\n",
        "final_dataset.head(2)"
      ],
      "execution_count": 0,
      "outputs": [
        {
          "output_type": "execute_result",
          "data": {
            "text/html": [
              "<div>\n",
              "<style scoped>\n",
              "    .dataframe tbody tr th:only-of-type {\n",
              "        vertical-align: middle;\n",
              "    }\n",
              "\n",
              "    .dataframe tbody tr th {\n",
              "        vertical-align: top;\n",
              "    }\n",
              "\n",
              "    .dataframe thead th {\n",
              "        text-align: right;\n",
              "    }\n",
              "</style>\n",
              "<table border=\"1\" class=\"dataframe\">\n",
              "  <thead>\n",
              "    <tr style=\"text-align: right;\">\n",
              "      <th></th>\n",
              "      <th>date</th>\n",
              "      <th>home_team</th>\n",
              "      <th>away_team</th>\n",
              "      <th>home_score</th>\n",
              "      <th>away_score</th>\n",
              "      <th>tournament</th>\n",
              "      <th>neutral</th>\n",
              "      <th>year</th>\n",
              "      <th>month</th>\n",
              "      <th>home_team_rank</th>\n",
              "      <th>home_previous_points</th>\n",
              "      <th>home_rank_date</th>\n",
              "      <th>away_team_rank</th>\n",
              "      <th>away_previous_points</th>\n",
              "      <th>away_rank_date</th>\n",
              "      <th>game</th>\n",
              "      <th>subtract</th>\n",
              "      <th>comment</th>\n",
              "    </tr>\n",
              "  </thead>\n",
              "  <tbody>\n",
              "    <tr>\n",
              "      <th>0</th>\n",
              "      <td>1993-08-08</td>\n",
              "      <td>Bolivia</td>\n",
              "      <td>Uruguay</td>\n",
              "      <td>3</td>\n",
              "      <td>1</td>\n",
              "      <td>FIFA World Cup qualification</td>\n",
              "      <td>False</td>\n",
              "      <td>1993</td>\n",
              "      <td>8</td>\n",
              "      <td>59.0</td>\n",
              "      <td>13.0</td>\n",
              "      <td>1993-08-08 00:00:00</td>\n",
              "      <td>22.0</td>\n",
              "      <td>47.0</td>\n",
              "      <td>1993-08-08</td>\n",
              "      <td>WorldCup</td>\n",
              "      <td>2</td>\n",
              "      <td>won game</td>\n",
              "    </tr>\n",
              "    <tr>\n",
              "      <th>1</th>\n",
              "      <td>1993-08-08</td>\n",
              "      <td>Brazil</td>\n",
              "      <td>Mexico</td>\n",
              "      <td>1</td>\n",
              "      <td>1</td>\n",
              "      <td>Friendly</td>\n",
              "      <td>False</td>\n",
              "      <td>1993</td>\n",
              "      <td>8</td>\n",
              "      <td>8.0</td>\n",
              "      <td>55.0</td>\n",
              "      <td>1993-08-08 00:00:00</td>\n",
              "      <td>14.0</td>\n",
              "      <td>42.0</td>\n",
              "      <td>1993-08-08</td>\n",
              "      <td>Friendly</td>\n",
              "      <td>0</td>\n",
              "      <td>draw</td>\n",
              "    </tr>\n",
              "  </tbody>\n",
              "</table>\n",
              "</div>"
            ],
            "text/plain": [
              "        date home_team away_team  ...      game  subtract   comment\n",
              "0 1993-08-08   Bolivia   Uruguay  ...  WorldCup         2  won game\n",
              "1 1993-08-08    Brazil    Mexico  ...  Friendly         0      draw\n",
              "\n",
              "[2 rows x 18 columns]"
            ]
          },
          "metadata": {
            "tags": []
          },
          "execution_count": 60
        }
      ]
    },
    {
      "cell_type": "markdown",
      "metadata": {
        "id": "tCGZsGyOYlM9",
        "colab_type": "text"
      },
      "source": [
        "#2.2 Univariate Analysis"
      ]
    },
    {
      "cell_type": "code",
      "metadata": {
        "id": "5vRt8cYlYpW4",
        "colab_type": "code",
        "outputId": "dd2b5912-c9ed-4143-f692-1dd3b1442ac4",
        "colab": {
          "base_uri": "https://localhost:8080/",
          "height": 312
        }
      },
      "source": [
        "#this checks the wins as we saw from our previous univariate the datais skewed hence the score comments may be uneven\n",
        "sns.countplot(x='comment',data=final_dataset)\n",
        "plt.title('comment spread')\n",
        "plt.xlabel('comment')\n",
        "plt.ylabel('count')"
      ],
      "execution_count": 0,
      "outputs": [
        {
          "output_type": "execute_result",
          "data": {
            "text/plain": [
              "Text(0, 0.5, 'count')"
            ]
          },
          "metadata": {
            "tags": []
          },
          "execution_count": 61
        },
        {
          "output_type": "display_data",
          "data": {
            "image/png": "[encoded data removed]",
            "text/plain": [
              "<Figure size 432x288 with 1 Axes>"
            ]
          },
          "metadata": {
            "tags": []
          }
        }
      ]
    },
    {
      "cell_type": "markdown",
      "metadata": {
        "id": "w2xAlH9gdhOn",
        "colab_type": "text"
      },
      "source": [
        "This shows that the data is uneven as suspected earlier."
      ]
    },
    {
      "cell_type": "code",
      "metadata": {
        "id": "fzqr1-FbXqUz",
        "colab_type": "code",
        "outputId": "9c0bb3a0-98c2-49f0-b9f2-c335d010852e",
        "colab": {
          "base_uri": "https://localhost:8080/",
          "height": 1000
        }
      },
      "source": [
        "# Plotting distribution of numerical variables\n",
        "col_names = ['home_score', 'away_score','home_team_rank','away_team_rank']\n",
        "fig, ax = plt.subplots(len(col_names), figsize=(10,15))\n",
        "\n",
        "for i, col_val in enumerate(col_names):\n",
        "\n",
        "    sns.distplot(final_dataset[col_val], hist=True, ax=ax[i])\n",
        "    ax[i].set_title('Frequency distribution of '+col_val, fontsize=10)\n",
        "    ax[i].set_xlabel(col_val, fontsize=8)\n",
        "    ax[i].set_ylabel('Count', fontsize=8)\n",
        "    \n",
        "plt.tight_layout()\n",
        "plt.show()"
      ],
      "execution_count": 0,
      "outputs": [
        {
          "output_type": "display_data",
          "data": {
            "image/png": "[encoded data removed]",
            "text/plain": [
              "<Figure size 720x1080 with 4 Axes>"
            ]
          },
          "metadata": {
            "tags": []
          }
        }
      ]
    },
    {
      "cell_type": "markdown",
      "metadata": {
        "id": "W9iL1MiA2_4z",
        "colab_type": "text"
      },
      "source": [
        "From this we can see that away score and home score are rightly skewed hence our data aint normal or its unevenly distributed.\n",
        "\n",
        "The ranks are somehow well distributed which is a good normal distribution."
      ]
    },
    {
      "cell_type": "code",
      "metadata": {
        "id": "5SjMV9MQhe2A",
        "colab_type": "code",
        "outputId": "70fb876b-27f0-4fee-e306-be71f1f03ad2",
        "colab": {
          "base_uri": "https://localhost:8080/",
          "height": 312
        }
      },
      "source": [
        "#Home team wins\n",
        "sns.boxplot(x='comment', y='home_score', data=final_dataset, palette='hls')\n",
        "plt.title('comment vs home_score')\n",
        "plt.xlabel('comments')\n",
        "plt.ylabel('home_score')"
      ],
      "execution_count": 0,
      "outputs": [
        {
          "output_type": "execute_result",
          "data": {
            "text/plain": [
              "Text(0, 0.5, 'home_score')"
            ]
          },
          "metadata": {
            "tags": []
          },
          "execution_count": 63
        },
        {
          "output_type": "display_data",
          "data": {
            "image/png": "[encoded data removed]",
            "text/plain": [
              "<Figure size 432x288 with 1 Axes>"
            ]
          },
          "metadata": {
            "tags": []
          }
        }
      ]
    },
    {
      "cell_type": "code",
      "metadata": {
        "id": "r8p50Dc5h0oe",
        "colab_type": "code",
        "outputId": "2d2dafac-4102-4594-bc15-25ca723f29a4",
        "colab": {
          "base_uri": "https://localhost:8080/",
          "height": 312
        }
      },
      "source": [
        "#Away team wins\n",
        "sns.boxplot(x='comment', y='away_score', data=final_dataset, palette='hls')\n",
        "plt.title('comment vs away_score')\n",
        "plt.xlabel('comments')\n",
        "plt.ylabel('away_score')\n",
        "#from this we can see home_score had more wins than the away team"
      ],
      "execution_count": 0,
      "outputs": [
        {
          "output_type": "execute_result",
          "data": {
            "text/plain": [
              "Text(0, 0.5, 'away_score')"
            ]
          },
          "metadata": {
            "tags": []
          },
          "execution_count": 64
        },
        {
          "output_type": "display_data",
          "data": {
            "image/png": "[encoded data removed]",
            "text/plain": [
              "<Figure size 432x288 with 1 Axes>"
            ]
          },
          "metadata": {
            "tags": []
          }
        }
      ]
    },
    {
      "cell_type": "markdown",
      "metadata": {
        "id": "J9Ef6fpOF9fn",
        "colab_type": "text"
      },
      "source": [
        "from this we can see home_score had more wins than the away team"
      ]
    },
    {
      "cell_type": "code",
      "metadata": {
        "id": "QmelELTxiQME",
        "colab_type": "code",
        "outputId": "3a27f04a-f36d-413d-cc18-2e6a76a11d47",
        "colab": {
          "base_uri": "https://localhost:8080/",
          "height": 312
        }
      },
      "source": [
        "#do the same with the ranking\n",
        "sns.boxplot(x='comment', y='home_team_rank', data=final_dataset, palette='hls')\n",
        "plt.title('comment vs home_team_rank')\n",
        "plt.xlabel('comment')\n",
        "plt.ylabel('home_team_rank')\n",
        "#this shows the hometeam is always a rank higher due to the wins"
      ],
      "execution_count": 0,
      "outputs": [
        {
          "output_type": "execute_result",
          "data": {
            "text/plain": [
              "Text(0, 0.5, 'home_team_rank')"
            ]
          },
          "metadata": {
            "tags": []
          },
          "execution_count": 65
        },
        {
          "output_type": "display_data",
          "data": {
            "image/png": "[encoded data removed]",
            "text/plain": [
              "<Figure size 432x288 with 1 Axes>"
            ]
          },
          "metadata": {
            "tags": []
          }
        }
      ]
    },
    {
      "cell_type": "code",
      "metadata": {
        "id": "3J7WBZ3WkGpp",
        "colab_type": "code",
        "outputId": "cba26a43-89b7-4a64-ef29-7cd07ac768e7",
        "colab": {
          "base_uri": "https://localhost:8080/",
          "height": 312
        }
      },
      "source": [
        "sns.boxplot(x='comment', y='away_team_rank', data=final_dataset, palette='hls')\n",
        "plt.title('comment vs away_team_rank')\n",
        "plt.xlabel('comment')\n",
        "plt.ylabel('away_team_rank')\n",
        "#this shows the away team is always a rank lower due to the losses"
      ],
      "execution_count": 0,
      "outputs": [
        {
          "output_type": "execute_result",
          "data": {
            "text/plain": [
              "Text(0, 0.5, 'away_team_rank')"
            ]
          },
          "metadata": {
            "tags": []
          },
          "execution_count": 66
        },
        {
          "output_type": "display_data",
          "data": {
            "image/png": "[encoded data removed]",
            "text/plain": [
              "<Figure size 432x288 with 1 Axes>"
            ]
          },
          "metadata": {
            "tags": []
          }
        }
      ]
    },
    {
      "cell_type": "code",
      "metadata": {
        "id": "CDDmfFn6Rn3P",
        "colab_type": "code",
        "colab": {}
      },
      "source": [
        "# # how did the home team perform depending on the tournament type?\n",
        "# home = sb.countplot('win_loss_draw', hue = 'tournament', data = dataset)\n",
        "# home.set(title = \"Distribution of Outcomes depending on Tournament\",\n",
        "#         ylabel = \"Win, Lose, or Draw\")"
      ],
      "execution_count": 0,
      "outputs": []
    },
    {
      "cell_type": "markdown",
      "metadata": {
        "id": "ThyWNZrZ8Sc7",
        "colab_type": "text"
      },
      "source": [
        "\n",
        "\n",
        "\n",
        "\n",
        "#3.0 CORRELATION \n",
        "\n",
        "\n",
        "\n",
        "\n"
      ]
    },
    {
      "cell_type": "code",
      "metadata": {
        "id": "oz-mX-VwkRxB",
        "colab_type": "code",
        "outputId": "901cf98b-1006-4665-86b2-f542d6986038",
        "colab": {
          "base_uri": "https://localhost:8080/",
          "height": 384
        }
      },
      "source": [
        "#correlation between the variables\n",
        "\n",
        "sns.heatmap(final_dataset.corr())\n"
      ],
      "execution_count": 0,
      "outputs": [
        {
          "output_type": "execute_result",
          "data": {
            "text/plain": [
              "<matplotlib.axes._subplots.AxesSubplot at 0x7fc1c98cd2b0>"
            ]
          },
          "metadata": {
            "tags": []
          },
          "execution_count": 67
        },
        {
          "output_type": "display_data",
          "data": {
            "image/png": "[encoded data removed]",
            "text/plain": [
              "<Figure size 432x288 with 2 Axes>"
            ]
          },
          "metadata": {
            "tags": []
          }
        }
      ]
    },
    {
      "cell_type": "code",
      "metadata": {
        "id": "YFCQ5xj0HtrB",
        "colab_type": "code",
        "outputId": "19367231-c995-4296-ee4b-3097baa81907",
        "colab": {
          "base_uri": "https://localhost:8080/",
          "height": 360
        }
      },
      "source": [
        "final_dataset.head()"
      ],
      "execution_count": 0,
      "outputs": [
        {
          "output_type": "execute_result",
          "data": {
            "text/html": [
              "<div>\n",
              "<style scoped>\n",
              "    .dataframe tbody tr th:only-of-type {\n",
              "        vertical-align: middle;\n",
              "    }\n",
              "\n",
              "    .dataframe tbody tr th {\n",
              "        vertical-align: top;\n",
              "    }\n",
              "\n",
              "    .dataframe thead th {\n",
              "        text-align: right;\n",
              "    }\n",
              "</style>\n",
              "<table border=\"1\" class=\"dataframe\">\n",
              "  <thead>\n",
              "    <tr style=\"text-align: right;\">\n",
              "      <th></th>\n",
              "      <th>date</th>\n",
              "      <th>home_team</th>\n",
              "      <th>away_team</th>\n",
              "      <th>home_score</th>\n",
              "      <th>away_score</th>\n",
              "      <th>tournament</th>\n",
              "      <th>neutral</th>\n",
              "      <th>year</th>\n",
              "      <th>month</th>\n",
              "      <th>home_team_rank</th>\n",
              "      <th>home_previous_points</th>\n",
              "      <th>home_rank_date</th>\n",
              "      <th>away_team_rank</th>\n",
              "      <th>away_previous_points</th>\n",
              "      <th>away_rank_date</th>\n",
              "      <th>game</th>\n",
              "      <th>subtract</th>\n",
              "      <th>comment</th>\n",
              "    </tr>\n",
              "  </thead>\n",
              "  <tbody>\n",
              "    <tr>\n",
              "      <th>0</th>\n",
              "      <td>1993-08-08</td>\n",
              "      <td>Bolivia</td>\n",
              "      <td>Uruguay</td>\n",
              "      <td>3</td>\n",
              "      <td>1</td>\n",
              "      <td>FIFA World Cup qualification</td>\n",
              "      <td>False</td>\n",
              "      <td>1993</td>\n",
              "      <td>8</td>\n",
              "      <td>59.0</td>\n",
              "      <td>13.0</td>\n",
              "      <td>1993-08-08 00:00:00</td>\n",
              "      <td>22.0</td>\n",
              "      <td>47.0</td>\n",
              "      <td>1993-08-08</td>\n",
              "      <td>WorldCup</td>\n",
              "      <td>2</td>\n",
              "      <td>won game</td>\n",
              "    </tr>\n",
              "    <tr>\n",
              "      <th>1</th>\n",
              "      <td>1993-08-08</td>\n",
              "      <td>Brazil</td>\n",
              "      <td>Mexico</td>\n",
              "      <td>1</td>\n",
              "      <td>1</td>\n",
              "      <td>Friendly</td>\n",
              "      <td>False</td>\n",
              "      <td>1993</td>\n",
              "      <td>8</td>\n",
              "      <td>8.0</td>\n",
              "      <td>55.0</td>\n",
              "      <td>1993-08-08 00:00:00</td>\n",
              "      <td>14.0</td>\n",
              "      <td>42.0</td>\n",
              "      <td>1993-08-08</td>\n",
              "      <td>Friendly</td>\n",
              "      <td>0</td>\n",
              "      <td>draw</td>\n",
              "    </tr>\n",
              "    <tr>\n",
              "      <th>2</th>\n",
              "      <td>1993-08-08</td>\n",
              "      <td>Ecuador</td>\n",
              "      <td>Venezuela</td>\n",
              "      <td>5</td>\n",
              "      <td>0</td>\n",
              "      <td>FIFA World Cup qualification</td>\n",
              "      <td>False</td>\n",
              "      <td>1993</td>\n",
              "      <td>8</td>\n",
              "      <td>35.0</td>\n",
              "      <td>23.0</td>\n",
              "      <td>1993-08-08 00:00:00</td>\n",
              "      <td>94.0</td>\n",
              "      <td>4.0</td>\n",
              "      <td>1993-08-08</td>\n",
              "      <td>WorldCup</td>\n",
              "      <td>5</td>\n",
              "      <td>won game</td>\n",
              "    </tr>\n",
              "    <tr>\n",
              "      <th>3</th>\n",
              "      <td>1993-08-08</td>\n",
              "      <td>Guinea</td>\n",
              "      <td>Sierra Leone</td>\n",
              "      <td>1</td>\n",
              "      <td>0</td>\n",
              "      <td>Friendly</td>\n",
              "      <td>False</td>\n",
              "      <td>1993</td>\n",
              "      <td>8</td>\n",
              "      <td>65.0</td>\n",
              "      <td>23.0</td>\n",
              "      <td>1993-08-08 00:00:00</td>\n",
              "      <td>86.0</td>\n",
              "      <td>16.0</td>\n",
              "      <td>1993-08-08</td>\n",
              "      <td>Friendly</td>\n",
              "      <td>1</td>\n",
              "      <td>won game</td>\n",
              "    </tr>\n",
              "    <tr>\n",
              "      <th>4</th>\n",
              "      <td>1993-08-08</td>\n",
              "      <td>Paraguay</td>\n",
              "      <td>Argentina</td>\n",
              "      <td>1</td>\n",
              "      <td>3</td>\n",
              "      <td>FIFA World Cup qualification</td>\n",
              "      <td>False</td>\n",
              "      <td>1993</td>\n",
              "      <td>8</td>\n",
              "      <td>67.0</td>\n",
              "      <td>22.0</td>\n",
              "      <td>1993-08-08 00:00:00</td>\n",
              "      <td>5.0</td>\n",
              "      <td>51.0</td>\n",
              "      <td>1993-08-08</td>\n",
              "      <td>WorldCup</td>\n",
              "      <td>-2</td>\n",
              "      <td>lost game</td>\n",
              "    </tr>\n",
              "  </tbody>\n",
              "</table>\n",
              "</div>"
            ],
            "text/plain": [
              "        date home_team     away_team  ...      game  subtract    comment\n",
              "0 1993-08-08   Bolivia       Uruguay  ...  WorldCup         2   won game\n",
              "1 1993-08-08    Brazil        Mexico  ...  Friendly         0       draw\n",
              "2 1993-08-08   Ecuador     Venezuela  ...  WorldCup         5   won game\n",
              "3 1993-08-08    Guinea  Sierra Leone  ...  Friendly         1   won game\n",
              "4 1993-08-08  Paraguay     Argentina  ...  WorldCup        -2  lost game\n",
              "\n",
              "[5 rows x 18 columns]"
            ]
          },
          "metadata": {
            "tags": []
          },
          "execution_count": 68
        }
      ]
    },
    {
      "cell_type": "markdown",
      "metadata": {
        "id": "hmNd1Y3tSqyb",
        "colab_type": "text"
      },
      "source": [
        "#3.1 Encoding categorical data."
      ]
    },
    {
      "cell_type": "code",
      "metadata": {
        "id": "XdToCY1dIQIB",
        "colab_type": "code",
        "colab": {}
      },
      "source": [
        "#encode the tournament to fit as numericals\n",
        "from sklearn.preprocessing import LabelEncoder\n",
        "encode_=LabelEncoder().fit(final_dataset['game'].unique())\n",
        "class_encode=encode_.classes_\n",
        "final_dataset['game']=encode_.transform(final_dataset['game'].values)"
      ],
      "execution_count": 0,
      "outputs": []
    },
    {
      "cell_type": "code",
      "metadata": {
        "id": "N1B8yfGAIAMo",
        "colab_type": "code",
        "outputId": "3f7885c4-3aef-45f3-90fd-cdaa1d481f5d",
        "colab": {
          "base_uri": "https://localhost:8080/",
          "height": 360
        }
      },
      "source": [
        "final_dataset.head()"
      ],
      "execution_count": 0,
      "outputs": [
        {
          "output_type": "execute_result",
          "data": {
            "text/html": [
              "<div>\n",
              "<style scoped>\n",
              "    .dataframe tbody tr th:only-of-type {\n",
              "        vertical-align: middle;\n",
              "    }\n",
              "\n",
              "    .dataframe tbody tr th {\n",
              "        vertical-align: top;\n",
              "    }\n",
              "\n",
              "    .dataframe thead th {\n",
              "        text-align: right;\n",
              "    }\n",
              "</style>\n",
              "<table border=\"1\" class=\"dataframe\">\n",
              "  <thead>\n",
              "    <tr style=\"text-align: right;\">\n",
              "      <th></th>\n",
              "      <th>date</th>\n",
              "      <th>home_team</th>\n",
              "      <th>away_team</th>\n",
              "      <th>home_score</th>\n",
              "      <th>away_score</th>\n",
              "      <th>tournament</th>\n",
              "      <th>neutral</th>\n",
              "      <th>year</th>\n",
              "      <th>month</th>\n",
              "      <th>home_team_rank</th>\n",
              "      <th>home_previous_points</th>\n",
              "      <th>home_rank_date</th>\n",
              "      <th>away_team_rank</th>\n",
              "      <th>away_previous_points</th>\n",
              "      <th>away_rank_date</th>\n",
              "      <th>game</th>\n",
              "      <th>subtract</th>\n",
              "      <th>comment</th>\n",
              "    </tr>\n",
              "  </thead>\n",
              "  <tbody>\n",
              "    <tr>\n",
              "      <th>0</th>\n",
              "      <td>1993-08-08</td>\n",
              "      <td>Bolivia</td>\n",
              "      <td>Uruguay</td>\n",
              "      <td>3</td>\n",
              "      <td>1</td>\n",
              "      <td>FIFA World Cup qualification</td>\n",
              "      <td>False</td>\n",
              "      <td>1993</td>\n",
              "      <td>8</td>\n",
              "      <td>59.0</td>\n",
              "      <td>13.0</td>\n",
              "      <td>1993-08-08 00:00:00</td>\n",
              "      <td>22.0</td>\n",
              "      <td>47.0</td>\n",
              "      <td>1993-08-08</td>\n",
              "      <td>1</td>\n",
              "      <td>2</td>\n",
              "      <td>won game</td>\n",
              "    </tr>\n",
              "    <tr>\n",
              "      <th>1</th>\n",
              "      <td>1993-08-08</td>\n",
              "      <td>Brazil</td>\n",
              "      <td>Mexico</td>\n",
              "      <td>1</td>\n",
              "      <td>1</td>\n",
              "      <td>Friendly</td>\n",
              "      <td>False</td>\n",
              "      <td>1993</td>\n",
              "      <td>8</td>\n",
              "      <td>8.0</td>\n",
              "      <td>55.0</td>\n",
              "      <td>1993-08-08 00:00:00</td>\n",
              "      <td>14.0</td>\n",
              "      <td>42.0</td>\n",
              "      <td>1993-08-08</td>\n",
              "      <td>0</td>\n",
              "      <td>0</td>\n",
              "      <td>draw</td>\n",
              "    </tr>\n",
              "    <tr>\n",
              "      <th>2</th>\n",
              "      <td>1993-08-08</td>\n",
              "      <td>Ecuador</td>\n",
              "      <td>Venezuela</td>\n",
              "      <td>5</td>\n",
              "      <td>0</td>\n",
              "      <td>FIFA World Cup qualification</td>\n",
              "      <td>False</td>\n",
              "      <td>1993</td>\n",
              "      <td>8</td>\n",
              "      <td>35.0</td>\n",
              "      <td>23.0</td>\n",
              "      <td>1993-08-08 00:00:00</td>\n",
              "      <td>94.0</td>\n",
              "      <td>4.0</td>\n",
              "      <td>1993-08-08</td>\n",
              "      <td>1</td>\n",
              "      <td>5</td>\n",
              "      <td>won game</td>\n",
              "    </tr>\n",
              "    <tr>\n",
              "      <th>3</th>\n",
              "      <td>1993-08-08</td>\n",
              "      <td>Guinea</td>\n",
              "      <td>Sierra Leone</td>\n",
              "      <td>1</td>\n",
              "      <td>0</td>\n",
              "      <td>Friendly</td>\n",
              "      <td>False</td>\n",
              "      <td>1993</td>\n",
              "      <td>8</td>\n",
              "      <td>65.0</td>\n",
              "      <td>23.0</td>\n",
              "      <td>1993-08-08 00:00:00</td>\n",
              "      <td>86.0</td>\n",
              "      <td>16.0</td>\n",
              "      <td>1993-08-08</td>\n",
              "      <td>0</td>\n",
              "      <td>1</td>\n",
              "      <td>won game</td>\n",
              "    </tr>\n",
              "    <tr>\n",
              "      <th>4</th>\n",
              "      <td>1993-08-08</td>\n",
              "      <td>Paraguay</td>\n",
              "      <td>Argentina</td>\n",
              "      <td>1</td>\n",
              "      <td>3</td>\n",
              "      <td>FIFA World Cup qualification</td>\n",
              "      <td>False</td>\n",
              "      <td>1993</td>\n",
              "      <td>8</td>\n",
              "      <td>67.0</td>\n",
              "      <td>22.0</td>\n",
              "      <td>1993-08-08 00:00:00</td>\n",
              "      <td>5.0</td>\n",
              "      <td>51.0</td>\n",
              "      <td>1993-08-08</td>\n",
              "      <td>1</td>\n",
              "      <td>-2</td>\n",
              "      <td>lost game</td>\n",
              "    </tr>\n",
              "  </tbody>\n",
              "</table>\n",
              "</div>"
            ],
            "text/plain": [
              "        date home_team     away_team  ...  game  subtract    comment\n",
              "0 1993-08-08   Bolivia       Uruguay  ...     1         2   won game\n",
              "1 1993-08-08    Brazil        Mexico  ...     0         0       draw\n",
              "2 1993-08-08   Ecuador     Venezuela  ...     1         5   won game\n",
              "3 1993-08-08    Guinea  Sierra Leone  ...     0         1   won game\n",
              "4 1993-08-08  Paraguay     Argentina  ...     1        -2  lost game\n",
              "\n",
              "[5 rows x 18 columns]"
            ]
          },
          "metadata": {
            "tags": []
          },
          "execution_count": 58
        }
      ]
    },
    {
      "cell_type": "code",
      "metadata": {
        "id": "As4NZJ51K-Oe",
        "colab_type": "code",
        "outputId": "a0c3b6f5-fd51-469d-a6b7-370e34defa36",
        "colab": {
          "base_uri": "https://localhost:8080/",
          "height": 360
        }
      },
      "source": [
        "#using variable encode for the comment variable with class encoded to ecode comment column\n",
        "encode=LabelEncoder().fit(final_dataset['comment'].unique())\n",
        "class_encoded=encode_.classes_\n",
        "final_dataset['comment']=encode.transform(final_dataset['comment'].values)\n",
        "final_dataset.head()"
      ],
      "execution_count": 0,
      "outputs": [
        {
          "output_type": "execute_result",
          "data": {
            "text/html": [
              "<div>\n",
              "<style scoped>\n",
              "    .dataframe tbody tr th:only-of-type {\n",
              "        vertical-align: middle;\n",
              "    }\n",
              "\n",
              "    .dataframe tbody tr th {\n",
              "        vertical-align: top;\n",
              "    }\n",
              "\n",
              "    .dataframe thead th {\n",
              "        text-align: right;\n",
              "    }\n",
              "</style>\n",
              "<table border=\"1\" class=\"dataframe\">\n",
              "  <thead>\n",
              "    <tr style=\"text-align: right;\">\n",
              "      <th></th>\n",
              "      <th>date</th>\n",
              "      <th>home_team</th>\n",
              "      <th>away_team</th>\n",
              "      <th>home_score</th>\n",
              "      <th>away_score</th>\n",
              "      <th>tournament</th>\n",
              "      <th>neutral</th>\n",
              "      <th>year</th>\n",
              "      <th>month</th>\n",
              "      <th>home_team_rank</th>\n",
              "      <th>home_previous_points</th>\n",
              "      <th>home_rank_date</th>\n",
              "      <th>away_team_rank</th>\n",
              "      <th>away_previous_points</th>\n",
              "      <th>away_rank_date</th>\n",
              "      <th>game</th>\n",
              "      <th>subtract</th>\n",
              "      <th>comment</th>\n",
              "    </tr>\n",
              "  </thead>\n",
              "  <tbody>\n",
              "    <tr>\n",
              "      <th>0</th>\n",
              "      <td>1993-08-08</td>\n",
              "      <td>Bolivia</td>\n",
              "      <td>Uruguay</td>\n",
              "      <td>3</td>\n",
              "      <td>1</td>\n",
              "      <td>FIFA World Cup qualification</td>\n",
              "      <td>False</td>\n",
              "      <td>1993</td>\n",
              "      <td>8</td>\n",
              "      <td>59.0</td>\n",
              "      <td>13.0</td>\n",
              "      <td>1993-08-08 00:00:00</td>\n",
              "      <td>22.0</td>\n",
              "      <td>47.0</td>\n",
              "      <td>1993-08-08</td>\n",
              "      <td>1</td>\n",
              "      <td>2</td>\n",
              "      <td>2</td>\n",
              "    </tr>\n",
              "    <tr>\n",
              "      <th>1</th>\n",
              "      <td>1993-08-08</td>\n",
              "      <td>Brazil</td>\n",
              "      <td>Mexico</td>\n",
              "      <td>1</td>\n",
              "      <td>1</td>\n",
              "      <td>Friendly</td>\n",
              "      <td>False</td>\n",
              "      <td>1993</td>\n",
              "      <td>8</td>\n",
              "      <td>8.0</td>\n",
              "      <td>55.0</td>\n",
              "      <td>1993-08-08 00:00:00</td>\n",
              "      <td>14.0</td>\n",
              "      <td>42.0</td>\n",
              "      <td>1993-08-08</td>\n",
              "      <td>0</td>\n",
              "      <td>0</td>\n",
              "      <td>0</td>\n",
              "    </tr>\n",
              "    <tr>\n",
              "      <th>2</th>\n",
              "      <td>1993-08-08</td>\n",
              "      <td>Ecuador</td>\n",
              "      <td>Venezuela</td>\n",
              "      <td>5</td>\n",
              "      <td>0</td>\n",
              "      <td>FIFA World Cup qualification</td>\n",
              "      <td>False</td>\n",
              "      <td>1993</td>\n",
              "      <td>8</td>\n",
              "      <td>35.0</td>\n",
              "      <td>23.0</td>\n",
              "      <td>1993-08-08 00:00:00</td>\n",
              "      <td>94.0</td>\n",
              "      <td>4.0</td>\n",
              "      <td>1993-08-08</td>\n",
              "      <td>1</td>\n",
              "      <td>5</td>\n",
              "      <td>2</td>\n",
              "    </tr>\n",
              "    <tr>\n",
              "      <th>3</th>\n",
              "      <td>1993-08-08</td>\n",
              "      <td>Guinea</td>\n",
              "      <td>Sierra Leone</td>\n",
              "      <td>1</td>\n",
              "      <td>0</td>\n",
              "      <td>Friendly</td>\n",
              "      <td>False</td>\n",
              "      <td>1993</td>\n",
              "      <td>8</td>\n",
              "      <td>65.0</td>\n",
              "      <td>23.0</td>\n",
              "      <td>1993-08-08 00:00:00</td>\n",
              "      <td>86.0</td>\n",
              "      <td>16.0</td>\n",
              "      <td>1993-08-08</td>\n",
              "      <td>0</td>\n",
              "      <td>1</td>\n",
              "      <td>2</td>\n",
              "    </tr>\n",
              "    <tr>\n",
              "      <th>4</th>\n",
              "      <td>1993-08-08</td>\n",
              "      <td>Paraguay</td>\n",
              "      <td>Argentina</td>\n",
              "      <td>1</td>\n",
              "      <td>3</td>\n",
              "      <td>FIFA World Cup qualification</td>\n",
              "      <td>False</td>\n",
              "      <td>1993</td>\n",
              "      <td>8</td>\n",
              "      <td>67.0</td>\n",
              "      <td>22.0</td>\n",
              "      <td>1993-08-08 00:00:00</td>\n",
              "      <td>5.0</td>\n",
              "      <td>51.0</td>\n",
              "      <td>1993-08-08</td>\n",
              "      <td>1</td>\n",
              "      <td>-2</td>\n",
              "      <td>1</td>\n",
              "    </tr>\n",
              "  </tbody>\n",
              "</table>\n",
              "</div>"
            ],
            "text/plain": [
              "        date home_team     away_team  ...  game  subtract comment\n",
              "0 1993-08-08   Bolivia       Uruguay  ...     1         2       2\n",
              "1 1993-08-08    Brazil        Mexico  ...     0         0       0\n",
              "2 1993-08-08   Ecuador     Venezuela  ...     1         5       2\n",
              "3 1993-08-08    Guinea  Sierra Leone  ...     0         1       2\n",
              "4 1993-08-08  Paraguay     Argentina  ...     1        -2       1\n",
              "\n",
              "[5 rows x 18 columns]"
            ]
          },
          "metadata": {
            "tags": []
          },
          "execution_count": 70
        }
      ]
    },
    {
      "cell_type": "code",
      "metadata": {
        "colab_type": "code",
        "id": "RMpbA55sUmdK",
        "colab": {}
      },
      "source": [
        "# if we want to check what an encoded value represents, we just find it in the respective class list\n",
        "# like this:\n",
        "# print(class_encode[1])\n",
        "# print(class_encoded[2])\n",
        "#use for later reference "
      ],
      "execution_count": 0,
      "outputs": []
    },
    {
      "cell_type": "code",
      "metadata": {
        "id": "FsNfHV-TL6Dg",
        "colab_type": "code",
        "outputId": "38489733-5031-4c21-cafb-bbbf28b9b805",
        "colab": {
          "base_uri": "https://localhost:8080/",
          "height": 204
        }
      },
      "source": [
        "#getting the necessary rows\n",
        "column=['home_score','away_score','home_team_rank','away_team_rank','game','comment']\n",
        "new_dataset=final_dataset[column]\n",
        "new_dataset.head()"
      ],
      "execution_count": 0,
      "outputs": [
        {
          "output_type": "execute_result",
          "data": {
            "text/html": [
              "<div>\n",
              "<style scoped>\n",
              "    .dataframe tbody tr th:only-of-type {\n",
              "        vertical-align: middle;\n",
              "    }\n",
              "\n",
              "    .dataframe tbody tr th {\n",
              "        vertical-align: top;\n",
              "    }\n",
              "\n",
              "    .dataframe thead th {\n",
              "        text-align: right;\n",
              "    }\n",
              "</style>\n",
              "<table border=\"1\" class=\"dataframe\">\n",
              "  <thead>\n",
              "    <tr style=\"text-align: right;\">\n",
              "      <th></th>\n",
              "      <th>home_score</th>\n",
              "      <th>away_score</th>\n",
              "      <th>home_team_rank</th>\n",
              "      <th>away_team_rank</th>\n",
              "      <th>game</th>\n",
              "      <th>comment</th>\n",
              "    </tr>\n",
              "  </thead>\n",
              "  <tbody>\n",
              "    <tr>\n",
              "      <th>0</th>\n",
              "      <td>3</td>\n",
              "      <td>1</td>\n",
              "      <td>59.0</td>\n",
              "      <td>22.0</td>\n",
              "      <td>1</td>\n",
              "      <td>2</td>\n",
              "    </tr>\n",
              "    <tr>\n",
              "      <th>1</th>\n",
              "      <td>1</td>\n",
              "      <td>1</td>\n",
              "      <td>8.0</td>\n",
              "      <td>14.0</td>\n",
              "      <td>0</td>\n",
              "      <td>0</td>\n",
              "    </tr>\n",
              "    <tr>\n",
              "      <th>2</th>\n",
              "      <td>5</td>\n",
              "      <td>0</td>\n",
              "      <td>35.0</td>\n",
              "      <td>94.0</td>\n",
              "      <td>1</td>\n",
              "      <td>2</td>\n",
              "    </tr>\n",
              "    <tr>\n",
              "      <th>3</th>\n",
              "      <td>1</td>\n",
              "      <td>0</td>\n",
              "      <td>65.0</td>\n",
              "      <td>86.0</td>\n",
              "      <td>0</td>\n",
              "      <td>2</td>\n",
              "    </tr>\n",
              "    <tr>\n",
              "      <th>4</th>\n",
              "      <td>1</td>\n",
              "      <td>3</td>\n",
              "      <td>67.0</td>\n",
              "      <td>5.0</td>\n",
              "      <td>1</td>\n",
              "      <td>1</td>\n",
              "    </tr>\n",
              "  </tbody>\n",
              "</table>\n",
              "</div>"
            ],
            "text/plain": [
              "   home_score  away_score  home_team_rank  away_team_rank  game  comment\n",
              "0           3           1            59.0            22.0     1        2\n",
              "1           1           1             8.0            14.0     0        0\n",
              "2           5           0            35.0            94.0     1        2\n",
              "3           1           0            65.0            86.0     0        2\n",
              "4           1           3            67.0             5.0     1        1"
            ]
          },
          "metadata": {
            "tags": []
          },
          "execution_count": 71
        }
      ]
    },
    {
      "cell_type": "code",
      "metadata": {
        "id": "lxgs7OW4N_eQ",
        "colab_type": "code",
        "outputId": "3769a640-d104-4930-af23-3e2cf05aa121",
        "colab": {
          "base_uri": "https://localhost:8080/",
          "height": 235
        }
      },
      "source": [
        "# first we get the correlations\n",
        "corr = new_dataset.corr()\n",
        "corr"
      ],
      "execution_count": 0,
      "outputs": [
        {
          "output_type": "execute_result",
          "data": {
            "text/html": [
              "<div>\n",
              "<style scoped>\n",
              "    .dataframe tbody tr th:only-of-type {\n",
              "        vertical-align: middle;\n",
              "    }\n",
              "\n",
              "    .dataframe tbody tr th {\n",
              "        vertical-align: top;\n",
              "    }\n",
              "\n",
              "    .dataframe thead th {\n",
              "        text-align: right;\n",
              "    }\n",
              "</style>\n",
              "<table border=\"1\" class=\"dataframe\">\n",
              "  <thead>\n",
              "    <tr style=\"text-align: right;\">\n",
              "      <th></th>\n",
              "      <th>home_score</th>\n",
              "      <th>away_score</th>\n",
              "      <th>home_team_rank</th>\n",
              "      <th>away_team_rank</th>\n",
              "      <th>game</th>\n",
              "      <th>comment</th>\n",
              "    </tr>\n",
              "  </thead>\n",
              "  <tbody>\n",
              "    <tr>\n",
              "      <th>home_score</th>\n",
              "      <td>1.000000</td>\n",
              "      <td>-0.165633</td>\n",
              "      <td>-0.100983</td>\n",
              "      <td>0.272785</td>\n",
              "      <td>0.051110</td>\n",
              "      <td>0.511232</td>\n",
              "    </tr>\n",
              "    <tr>\n",
              "      <th>away_score</th>\n",
              "      <td>-0.165633</td>\n",
              "      <td>1.000000</td>\n",
              "      <td>0.184668</td>\n",
              "      <td>-0.141860</td>\n",
              "      <td>0.046724</td>\n",
              "      <td>-0.229668</td>\n",
              "    </tr>\n",
              "    <tr>\n",
              "      <th>home_team_rank</th>\n",
              "      <td>-0.100983</td>\n",
              "      <td>0.184668</td>\n",
              "      <td>1.000000</td>\n",
              "      <td>0.415841</td>\n",
              "      <td>0.110517</td>\n",
              "      <td>-0.097864</td>\n",
              "    </tr>\n",
              "    <tr>\n",
              "      <th>away_team_rank</th>\n",
              "      <td>0.272785</td>\n",
              "      <td>-0.141860</td>\n",
              "      <td>0.415841</td>\n",
              "      <td>1.000000</td>\n",
              "      <td>0.120637</td>\n",
              "      <td>0.193336</td>\n",
              "    </tr>\n",
              "    <tr>\n",
              "      <th>game</th>\n",
              "      <td>0.051110</td>\n",
              "      <td>0.046724</td>\n",
              "      <td>0.110517</td>\n",
              "      <td>0.120637</td>\n",
              "      <td>1.000000</td>\n",
              "      <td>0.040506</td>\n",
              "    </tr>\n",
              "    <tr>\n",
              "      <th>comment</th>\n",
              "      <td>0.511232</td>\n",
              "      <td>-0.229668</td>\n",
              "      <td>-0.097864</td>\n",
              "      <td>0.193336</td>\n",
              "      <td>0.040506</td>\n",
              "      <td>1.000000</td>\n",
              "    </tr>\n",
              "  </tbody>\n",
              "</table>\n",
              "</div>"
            ],
            "text/plain": [
              "                home_score  away_score  ...      game   comment\n",
              "home_score        1.000000   -0.165633  ...  0.051110  0.511232\n",
              "away_score       -0.165633    1.000000  ...  0.046724 -0.229668\n",
              "home_team_rank   -0.100983    0.184668  ...  0.110517 -0.097864\n",
              "away_team_rank    0.272785   -0.141860  ...  0.120637  0.193336\n",
              "game              0.051110    0.046724  ...  1.000000  0.040506\n",
              "comment           0.511232   -0.229668  ...  0.040506  1.000000\n",
              "\n",
              "[6 rows x 6 columns]"
            ]
          },
          "metadata": {
            "tags": []
          },
          "execution_count": 72
        }
      ]
    },
    {
      "cell_type": "markdown",
      "metadata": {
        "id": "5pjFMhpxTXjc",
        "colab_type": "text"
      },
      "source": [
        "#3.2 Variance Inflation Factor "
      ]
    },
    {
      "cell_type": "code",
      "metadata": {
        "id": "vijwwVUWOGMv",
        "colab_type": "code",
        "outputId": "78fdee95-7744-4037-e06b-1df1021a34bf",
        "colab": {
          "base_uri": "https://localhost:8080/",
          "height": 576
        }
      },
      "source": [
        "# then we get the Variance Inflation Factor (VIF)\n",
        "vif = pd.DataFrame(np.linalg.inv(corr.values), index = corr.index, columns = corr.columns)\n",
        "\n",
        "# using a heatmap to display the results\n",
        "plt.figure(figsize = (10,8))\n",
        "sns.heatmap(vif, annot = True)"
      ],
      "execution_count": 0,
      "outputs": [
        {
          "output_type": "execute_result",
          "data": {
            "text/plain": [
              "<matplotlib.axes._subplots.AxesSubplot at 0x7fc1c9687f98>"
            ]
          },
          "metadata": {
            "tags": []
          },
          "execution_count": 73
        },
        {
          "output_type": "display_data",
          "data": {
            "image/png": "[encoded data removed]",
            "text/plain": [
              "<Figure size 720x576 with 2 Axes>"
            ]
          },
          "metadata": {
            "tags": []
          }
        }
      ]
    },
    {
      "cell_type": "markdown",
      "metadata": {
        "id": "KuqDQ0lYPTu3",
        "colab_type": "text"
      },
      "source": [
        "#4.0 POLYNOMIAL REGRESSION\n",
        "MODEL 1\n",
        "\n"
      ]
    },
    {
      "cell_type": "markdown",
      "metadata": {
        "id": "05Fq2H-QVbLw",
        "colab_type": "text"
      },
      "source": [
        "#4.1 Predict Home Scores"
      ]
    },
    {
      "cell_type": "code",
      "metadata": {
        "id": "nQDin7TiPM28",
        "colab_type": "code",
        "outputId": "910e9b83-ed41-45d8-cfa4-b6d5a6609bdd",
        "colab": {
          "base_uri": "https://localhost:8080/",
          "height": 51
        }
      },
      "source": [
        "# getting our attributes and labels\n",
        "X_home = np.array(new_dataset[['home_team_rank', 'away_team_rank', 'game']])\n",
        "y_home = new_dataset['home_score']\n",
        "print(X_home.shape)\n",
        "print(y_home.shape)"
      ],
      "execution_count": 0,
      "outputs": [
        {
          "output_type": "stream",
          "text": [
            "(22113, 3)\n",
            "(22113,)\n"
          ],
          "name": "stdout"
        }
      ]
    },
    {
      "cell_type": "code",
      "metadata": {
        "id": "JZ97h9A_Q3Af",
        "colab_type": "code",
        "outputId": "8e0a5f54-6f18-476e-b085-1e18375da48b",
        "colab": {
          "base_uri": "https://localhost:8080/",
          "height": 34
        }
      },
      "source": [
        "# fitting the Linear Regression model to our dataset\n",
        "from sklearn.linear_model import LinearRegression\n",
        "reg_line_home = LinearRegression()\n",
        "reg_line_home.fit(X_home, y_home)"
      ],
      "execution_count": 0,
      "outputs": [
        {
          "output_type": "execute_result",
          "data": {
            "text/plain": [
              "LinearRegression(copy_X=True, fit_intercept=True, n_jobs=None, normalize=False)"
            ]
          },
          "metadata": {
            "tags": []
          },
          "execution_count": 75
        }
      ]
    },
    {
      "cell_type": "code",
      "metadata": {
        "id": "Ypc3IdTCRBaA",
        "colab_type": "code",
        "colab": {}
      },
      "source": [
        "# getting our training and testing sets\n",
        "from sklearn.model_selection import train_test_split\n",
        "X_home_train, X_home_test, y_home_train, y_home_test = train_test_split(X_home, y_home, \n",
        "                                                    test_size = 0.2, random_state = 0)"
      ],
      "execution_count": 0,
      "outputs": []
    },
    {
      "cell_type": "code",
      "metadata": {
        "id": "oWqgnFakRGu3",
        "colab_type": "code",
        "outputId": "3f658c86-670c-4194-8001-74aa22f0a338",
        "colab": {
          "base_uri": "https://localhost:8080/",
          "height": 34
        }
      },
      "source": [
        "y_home_train.shape"
      ],
      "execution_count": 0,
      "outputs": [
        {
          "output_type": "execute_result",
          "data": {
            "text/plain": [
              "(17690,)"
            ]
          },
          "metadata": {
            "tags": []
          },
          "execution_count": 77
        }
      ]
    },
    {
      "cell_type": "code",
      "metadata": {
        "id": "7ced0mjDRIiN",
        "colab_type": "code",
        "colab": {}
      },
      "source": [
        "# fitting a polynomial regression to our data\n",
        "from sklearn.preprocessing import PolynomialFeatures\n",
        "poly_reg_home = PolynomialFeatures(degree = 5)\n",
        "X_poly_home = poly_reg_home.fit_transform(X_home)"
      ],
      "execution_count": 0,
      "outputs": []
    },
    {
      "cell_type": "code",
      "metadata": {
        "id": "4D3F8Q0sRNjo",
        "colab_type": "code",
        "outputId": "1f72034e-b1bc-48ad-b728-3a636362fe0d",
        "colab": {
          "base_uri": "https://localhost:8080/",
          "height": 34
        }
      },
      "source": [
        "# fitting a linear regression to our polynomial regression\n",
        "lin_reg_home = LinearRegression()\n",
        "lin_reg_home.fit(X_poly_home, y_home)"
      ],
      "execution_count": 0,
      "outputs": [
        {
          "output_type": "execute_result",
          "data": {
            "text/plain": [
              "LinearRegression(copy_X=True, fit_intercept=True, n_jobs=None, normalize=False)"
            ]
          },
          "metadata": {
            "tags": []
          },
          "execution_count": 79
        }
      ]
    },
    {
      "cell_type": "code",
      "metadata": {
        "id": "EjOx9CfbRs_E",
        "colab_type": "code",
        "outputId": "f02783b3-2666-44d6-ef04-3a1464032325",
        "colab": {
          "base_uri": "https://localhost:8080/",
          "height": 85
        }
      },
      "source": [
        "# using home rank 12, away rank 5, and tournament 0 (Friendly)\n",
        "\n",
        "# predict using linear regression\n",
        "lin_pred_home = reg_line_home.predict([[12, 5, 0]])\n",
        "print(\"Linear Prediction: %d\" %lin_pred_home)\n",
        "print(\"Linear Prediction (accurate):\", lin_pred_home)\n",
        "\n",
        "# predict using polynomial regression\n",
        "poly_pred_home = lin_reg_home.predict(poly_reg_home.fit_transform([[12, 5, 0]]))\n",
        "print(\"Polynomial Prediction: %d\" %poly_pred_home)\n",
        "print(\"Polynomial Prediction (accurate):\", poly_pred_home)"
      ],
      "execution_count": 0,
      "outputs": [
        {
          "output_type": "stream",
          "text": [
            "Linear Prediction: 1\n",
            "Linear Prediction (accurate): [1.20212964]\n",
            "Polynomial Prediction: 1\n",
            "Polynomial Prediction (accurate): [1.1765883]\n"
          ],
          "name": "stdout"
        }
      ]
    },
    {
      "cell_type": "code",
      "metadata": {
        "id": "Yl5IZlD_S_hZ",
        "colab_type": "code",
        "outputId": "97e8cc63-3067-49aa-96c3-73056d8a4a3b",
        "colab": {
          "base_uri": "https://localhost:8080/",
          "height": 85
        }
      },
      "source": [
        "#test to see its level of accuracy with the ideal data\n",
        "# we'll use the match between Uruguay and Uzbekistan (index 867)\n",
        "# so Home Rank 14, Away rank 95, and Tournament Type 0\n",
        "\n",
        "# predict using linear regression\n",
        "lin_pred_home2 = reg_line_home.predict([[14, 95, 0]])\n",
        "print(\"Linear Prediction: %d\" %lin_pred_home2)\n",
        "print(\"Linear Prediction (accurate):\", lin_pred_home2)\n",
        "\n",
        "# predict using polynomial regression\n",
        "poly_pred_home2 = lin_reg_home.predict(poly_reg_home.fit_transform([[14, 95, 0]]))\n",
        "print(\"Polynomial Prediction: %d\" %poly_pred_home2)\n",
        "print(\"Polynomial Prediction (accurate):\", poly_pred_home2)"
      ],
      "execution_count": 0,
      "outputs": [
        {
          "output_type": "stream",
          "text": [
            "Linear Prediction: 2\n",
            "Linear Prediction (accurate): [2.39479632]\n",
            "Polynomial Prediction: 2\n",
            "Polynomial Prediction (accurate): [2.32136986]\n"
          ],
          "name": "stdout"
        }
      ]
    },
    {
      "cell_type": "markdown",
      "metadata": {
        "id": "d2NO54cFTNBt",
        "colab_type": "text"
      },
      "source": [
        "MODEL 2 \n",
        "#4.2 Predict Away Score"
      ]
    },
    {
      "cell_type": "code",
      "metadata": {
        "id": "Z0g3TYh0THo-",
        "colab_type": "code",
        "outputId": "04582813-5fc6-4c67-f054-c76b865774fa",
        "colab": {
          "base_uri": "https://localhost:8080/",
          "height": 51
        }
      },
      "source": [
        "# getting our attributes and labels\n",
        "X_away = np.array(new_dataset[['home_team_rank', 'away_team_rank', 'game']])\n",
        "y_away = new_dataset['away_score']\n",
        "print(X_away.shape)\n",
        "print(y_away.shape)"
      ],
      "execution_count": 0,
      "outputs": [
        {
          "output_type": "stream",
          "text": [
            "(22113, 3)\n",
            "(22113,)\n"
          ],
          "name": "stdout"
        }
      ]
    },
    {
      "cell_type": "code",
      "metadata": {
        "id": "F5eU87-NTbLD",
        "colab_type": "code",
        "outputId": "c8a64714-f63f-4f31-c987-38cdc7fd1f57",
        "colab": {
          "base_uri": "https://localhost:8080/",
          "height": 34
        }
      },
      "source": [
        "# fitting the Linear Regression model to our dataset\n",
        "reg_line_away = LinearRegression()\n",
        "reg_line_away.fit(X_away, y_away)"
      ],
      "execution_count": 0,
      "outputs": [
        {
          "output_type": "execute_result",
          "data": {
            "text/plain": [
              "LinearRegression(copy_X=True, fit_intercept=True, n_jobs=None, normalize=False)"
            ]
          },
          "metadata": {
            "tags": []
          },
          "execution_count": 84
        }
      ]
    },
    {
      "cell_type": "code",
      "metadata": {
        "id": "Qf6eV5fhTf9F",
        "colab_type": "code",
        "colab": {}
      },
      "source": [
        "# getting our training and testing sets\n",
        "X_train_away,  X_test_away, y_train_away, y_test_away = train_test_split(X_away, y_away, \n",
        "                                                    test_size = 0.2, random_state = 0)\n"
      ],
      "execution_count": 0,
      "outputs": []
    },
    {
      "cell_type": "code",
      "metadata": {
        "id": "u66RsL3dTkL6",
        "colab_type": "code",
        "colab": {}
      },
      "source": [
        "# fitting a polynomial regression to our data\n",
        "poly_reg_away = PolynomialFeatures(degree = 5)\n",
        "X_poly_away = poly_reg_away.fit_transform(X_away)"
      ],
      "execution_count": 0,
      "outputs": []
    },
    {
      "cell_type": "code",
      "metadata": {
        "id": "z3YL0rTWTo2_",
        "colab_type": "code",
        "outputId": "fe9b3fb7-a3d2-4ecf-a6a4-43d8dfbd4f07",
        "colab": {
          "base_uri": "https://localhost:8080/",
          "height": 34
        }
      },
      "source": [
        "# fitting a linear regression to our polynomial regression\n",
        "lin_reg_away = LinearRegression()\n",
        "lin_reg_away.fit(X_poly_away, y_away)"
      ],
      "execution_count": 0,
      "outputs": [
        {
          "output_type": "execute_result",
          "data": {
            "text/plain": [
              "LinearRegression(copy_X=True, fit_intercept=True, n_jobs=None, normalize=False)"
            ]
          },
          "metadata": {
            "tags": []
          },
          "execution_count": 87
        }
      ]
    },
    {
      "cell_type": "code",
      "metadata": {
        "id": "-kiNWyh_Tsl6",
        "colab_type": "code",
        "outputId": "b287b479-299e-4e09-c1da-c1f0df74dbfb",
        "colab": {
          "base_uri": "https://localhost:8080/",
          "height": 85
        }
      },
      "source": [
        " #using home rank 12, away rank 5, and tournament 0 (Friendly), like the example in the\n",
        "# first model\n",
        "\n",
        "# predict using linear regression\n",
        "lin_pred_away = reg_line_away.predict([[5, 12, 0]])\n",
        "print(\"Linear Prediction: %d\" %lin_pred_away)\n",
        "print(\"Linear Prediction (accurate):\", lin_pred_away)\n",
        "\n",
        "# predict using polynomial regression\n",
        "poly_pred_away = lin_reg_away.predict(poly_reg_away.fit_transform([[5, 12, 0]]))\n",
        "print(\"Polynomial Prediction: %d\" %poly_pred_away)\n",
        "print(\"Polynomial Prediction (accurate):\", poly_pred_away)"
      ],
      "execution_count": 0,
      "outputs": [
        {
          "output_type": "stream",
          "text": [
            "Linear Prediction: 0\n",
            "Linear Prediction (accurate): [0.92867234]\n",
            "Polynomial Prediction: 0\n",
            "Polynomial Prediction (accurate): [0.95547969]\n"
          ],
          "name": "stdout"
        }
      ]
    },
    {
      "cell_type": "markdown",
      "metadata": {
        "id": "9pD5C_D3UW_d",
        "colab_type": "text"
      },
      "source": [
        "#5.0 LOGISTIC REGRESSION"
      ]
    },
    {
      "cell_type": "code",
      "metadata": {
        "id": "BdZEkcheUTR4",
        "colab_type": "code",
        "outputId": "d5847d2c-704c-4acf-d13d-76e3b15afcba",
        "colab": {
          "base_uri": "https://localhost:8080/",
          "height": 204
        }
      },
      "source": [
        "# since we want to predict whether a match is a win, lose, or draw from the perspective\n",
        "# of the home team, our target variable will be the 'win_loss_draw' column\n",
        "log_prediction = new_dataset.drop(columns = [ 'game','home_team_rank', 'away_team_rank'])\n",
        "log_prediction.head()"
      ],
      "execution_count": 0,
      "outputs": [
        {
          "output_type": "execute_result",
          "data": {
            "text/html": [
              "<div>\n",
              "<style scoped>\n",
              "    .dataframe tbody tr th:only-of-type {\n",
              "        vertical-align: middle;\n",
              "    }\n",
              "\n",
              "    .dataframe tbody tr th {\n",
              "        vertical-align: top;\n",
              "    }\n",
              "\n",
              "    .dataframe thead th {\n",
              "        text-align: right;\n",
              "    }\n",
              "</style>\n",
              "<table border=\"1\" class=\"dataframe\">\n",
              "  <thead>\n",
              "    <tr style=\"text-align: right;\">\n",
              "      <th></th>\n",
              "      <th>home_score</th>\n",
              "      <th>away_score</th>\n",
              "      <th>comment</th>\n",
              "    </tr>\n",
              "  </thead>\n",
              "  <tbody>\n",
              "    <tr>\n",
              "      <th>0</th>\n",
              "      <td>3</td>\n",
              "      <td>1</td>\n",
              "      <td>2</td>\n",
              "    </tr>\n",
              "    <tr>\n",
              "      <th>1</th>\n",
              "      <td>1</td>\n",
              "      <td>1</td>\n",
              "      <td>0</td>\n",
              "    </tr>\n",
              "    <tr>\n",
              "      <th>2</th>\n",
              "      <td>5</td>\n",
              "      <td>0</td>\n",
              "      <td>2</td>\n",
              "    </tr>\n",
              "    <tr>\n",
              "      <th>3</th>\n",
              "      <td>1</td>\n",
              "      <td>0</td>\n",
              "      <td>2</td>\n",
              "    </tr>\n",
              "    <tr>\n",
              "      <th>4</th>\n",
              "      <td>1</td>\n",
              "      <td>3</td>\n",
              "      <td>1</td>\n",
              "    </tr>\n",
              "  </tbody>\n",
              "</table>\n",
              "</div>"
            ],
            "text/plain": [
              "   home_score  away_score  comment\n",
              "0           3           1        2\n",
              "1           1           1        0\n",
              "2           5           0        2\n",
              "3           1           0        2\n",
              "4           1           3        1"
            ]
          },
          "metadata": {
            "tags": []
          },
          "execution_count": 89
        }
      ]
    },
    {
      "cell_type": "markdown",
      "metadata": {
        "id": "oRUpY0xwV7Ih",
        "colab_type": "text"
      },
      "source": [
        "#5.1 Training dataset and multicollinearity"
      ]
    },
    {
      "cell_type": "code",
      "metadata": {
        "id": "GvzCFQ5UVkr_",
        "colab_type": "code",
        "outputId": "af98da21-51e6-4476-97ad-943543b118f4",
        "colab": {
          "base_uri": "https://localhost:8080/",
          "height": 501
        }
      },
      "source": [
        "# check for multicollinearity between the variables\n",
        "wld_vif = pd.DataFrame(np.linalg.inv(log_prediction.corr().values), index = log_prediction.corr().index,\n",
        "                      columns = log_prediction.corr().columns)\n",
        "\n",
        "plt.figure(figsize = (10,8))\n",
        "sns.heatmap(wld_vif, annot = True)"
      ],
      "execution_count": 0,
      "outputs": [
        {
          "output_type": "execute_result",
          "data": {
            "text/plain": [
              "<matplotlib.axes._subplots.AxesSubplot at 0x7fc1c767e470>"
            ]
          },
          "metadata": {
            "tags": []
          },
          "execution_count": 90
        },
        {
          "output_type": "display_data",
          "data": {
            "image/png": "[encoded data removed]",
            "text/plain": [
              "<Figure size 720x576 with 2 Axes>"
            ]
          },
          "metadata": {
            "tags": []
          }
        }
      ]
    },
    {
      "cell_type": "markdown",
      "metadata": {
        "id": "hXWOaqumknfg",
        "colab_type": "text"
      },
      "source": [
        "no much correlation hence wont affect the state of the model"
      ]
    },
    {
      "cell_type": "code",
      "metadata": {
        "id": "GzQ5FfKIVxNZ",
        "colab_type": "code",
        "outputId": "ce21f9f1-308c-4a7e-89f1-409b9337453b",
        "colab": {
          "base_uri": "https://localhost:8080/",
          "height": 51
        }
      },
      "source": [
        "# setting up our train and test sets\n",
        "\n",
        "X_wld = log_prediction.drop('comment', axis = 1)\n",
        "y_wld = log_prediction['comment']\n",
        "\n",
        "print(X_wld.shape)\n",
        "print(y_wld.shape)"
      ],
      "execution_count": 0,
      "outputs": [
        {
          "output_type": "stream",
          "text": [
            "(22113, 2)\n",
            "(22113,)\n"
          ],
          "name": "stdout"
        }
      ]
    },
    {
      "cell_type": "code",
      "metadata": {
        "id": "w7c9NQFmWAy4",
        "colab_type": "code",
        "colab": {}
      },
      "source": [
        "# splitting our data 80:20\n",
        "X_wld_train, X_wld_test, y_wld_train, y_wld_test = train_test_split(X_wld, y_wld,\n",
        "                                                                    test_size = 0.2,\n",
        "                                                                    random_state = 0)"
      ],
      "execution_count": 0,
      "outputs": []
    },
    {
      "cell_type": "code",
      "metadata": {
        "id": "NAwi7lcCWHoo",
        "colab_type": "code",
        "outputId": "cb2058f5-434a-43c1-dfbc-e39ae58accfe",
        "colab": {
          "base_uri": "https://localhost:8080/",
          "height": 102
        }
      },
      "source": [
        "# fitting our model\n",
        "from sklearn.linear_model import LogisticRegression\n",
        "\n",
        "LogReg = LogisticRegression(solver = 'liblinear', multi_class = 'auto')\n",
        "LogReg.fit(X_wld_train, y_wld_train)"
      ],
      "execution_count": 0,
      "outputs": [
        {
          "output_type": "execute_result",
          "data": {
            "text/plain": [
              "LogisticRegression(C=1.0, class_weight=None, dual=False, fit_intercept=True,\n",
              "                   intercept_scaling=1, l1_ratio=None, max_iter=100,\n",
              "                   multi_class='auto', n_jobs=None, penalty='l2',\n",
              "                   random_state=None, solver='liblinear', tol=0.0001, verbose=0,\n",
              "                   warm_start=False)"
            ]
          },
          "metadata": {
            "tags": []
          },
          "execution_count": 93
        }
      ]
    },
    {
      "cell_type": "markdown",
      "metadata": {
        "id": "0KZCdVnEW9rn",
        "colab_type": "text"
      },
      "source": [
        "# 6.0 MAKING PREDICTIONS"
      ]
    },
    {
      "cell_type": "code",
      "metadata": {
        "id": "FHca5wlJW6yl",
        "colab_type": "code",
        "colab": {}
      },
      "source": [
        "# I will use KNN\n",
        "from sklearn.neighbors import KNeighborsClassifier\n",
        "knn = KNeighborsClassifier(n_neighbors=1)"
      ],
      "execution_count": 0,
      "outputs": []
    },
    {
      "cell_type": "code",
      "metadata": {
        "id": "-G-OZ9UrYl3Z",
        "colab_type": "code",
        "outputId": "baa8d6d1-4a53-4512-beef-eacc9a0251cb",
        "colab": {
          "base_uri": "https://localhost:8080/",
          "height": 68
        }
      },
      "source": [
        "#fitting our KNN\n",
        "knn.fit(X_wld_train, y_wld_train)"
      ],
      "execution_count": 0,
      "outputs": [
        {
          "output_type": "execute_result",
          "data": {
            "text/plain": [
              "KNeighborsClassifier(algorithm='auto', leaf_size=30, metric='minkowski',\n",
              "                     metric_params=None, n_jobs=None, n_neighbors=1, p=2,\n",
              "                     weights='uniform')"
            ]
          },
          "metadata": {
            "tags": []
          },
          "execution_count": 97
        }
      ]
    },
    {
      "cell_type": "code",
      "metadata": {
        "id": "fBY99UBeXBC7",
        "colab_type": "code",
        "outputId": "c05edf3e-bdfd-4846-ff53-7b3a0ab0c909",
        "colab": {
          "base_uri": "https://localhost:8080/",
          "height": 34
        }
      },
      "source": [
        "\n",
        "# suppose home team scores 7 goals and away team scores 3 (we want to get a 'win')\n",
        "X_example = np.array([[7, 3]])\n",
        "X_example"
      ],
      "execution_count": 0,
      "outputs": [
        {
          "output_type": "execute_result",
          "data": {
            "text/plain": [
              "array([[7, 3]])"
            ]
          },
          "metadata": {
            "tags": []
          },
          "execution_count": 98
        }
      ]
    },
    {
      "cell_type": "code",
      "metadata": {
        "id": "en5BXr_cYDf-",
        "colab_type": "code",
        "outputId": "5b6e6089-7484-4433-f2af-2f67994129ec",
        "colab": {
          "base_uri": "https://localhost:8080/",
          "height": 34
        }
      },
      "source": [
        "#KNN prediction\n",
        "prediction = knn.predict(X_example)\n",
        "print(\"Result of prediction:\", prediction)"
      ],
      "execution_count": 0,
      "outputs": [
        {
          "output_type": "stream",
          "text": [
            "Result of prediction: [2]\n"
          ],
          "name": "stdout"
        }
      ]
    },
    {
      "cell_type": "code",
      "metadata": {
        "id": "1GOZK6sqYshI",
        "colab_type": "code",
        "outputId": "adadaa14-d345-4f07-bded-6f49208e0616",
        "colab": {
          "base_uri": "https://localhost:8080/",
          "height": 34
        }
      },
      "source": [
        "# decoding our prediction using the outcome class we had set up earlier\n",
        "print(\"Outcome of the match:\", class_encoded[prediction])"
      ],
      "execution_count": 0,
      "outputs": [
        {
          "output_type": "stream",
          "text": [
            "Outcome of the match: ['other']\n"
          ],
          "name": "stdout"
        }
      ]
    },
    {
      "cell_type": "code",
      "metadata": {
        "id": "_wcupGhiY1Ka",
        "colab_type": "code",
        "outputId": "2120cb86-b22c-46f8-ee05-e410eacf0f69",
        "colab": {
          "base_uri": "https://localhost:8080/",
          "height": 34
        }
      },
      "source": [
        "# let's try again with a home score of 3 and an away score of 3 and see if we can get a 'draw'\n",
        "X_example_2 = np.array([[3, 3]])\n",
        "prediction2 = knn.predict(X_example_2)\n",
        "print(\"Match outcome:\", class_encoded[prediction2])"
      ],
      "execution_count": 0,
      "outputs": [
        {
          "output_type": "stream",
          "text": [
            "Match outcome: ['Friendly']\n"
          ],
          "name": "stdout"
        }
      ]
    },
    {
      "cell_type": "markdown",
      "metadata": {
        "id": "_2EGrxkjfgSX",
        "colab_type": "text"
      },
      "source": [
        "From this we can see our model did not do a bad job as by the use of real data it showed friendly matches were better compared to any other despite the other outcome that  showed more games were not from the world cup"
      ]
    },
    {
      "cell_type": "code",
      "metadata": {
        "id": "gKV5eTDdY_CN",
        "colab_type": "code",
        "outputId": "88abad2b-a5a6-40ca-c847-18f9ea49860f",
        "colab": {
          "base_uri": "https://localhost:8080/",
          "height": 34
        }
      },
      "source": [
        "# how accurate is our model?\n",
        "prediction_score = knn.score(X_wld_test, y_wld_test)\n",
        "prediction_score"
      ],
      "execution_count": 0,
      "outputs": [
        {
          "output_type": "execute_result",
          "data": {
            "text/plain": [
              "1.0"
            ]
          },
          "metadata": {
            "tags": []
          },
          "execution_count": 102
        }
      ]
    },
    {
      "cell_type": "markdown",
      "metadata": {
        "id": "XDzc7_F5f2fA",
        "colab_type": "text"
      },
      "source": [
        "Our model seems to be really good predicting 100%"
      ]
    },
    {
      "cell_type": "markdown",
      "metadata": {
        "id": "2Di9kbUEZqAB",
        "colab_type": "text"
      },
      "source": [
        "# 7.0 CROSS VALIDATION MODEL"
      ]
    },
    {
      "cell_type": "markdown",
      "metadata": {
        "id": "nfWRu5aJZrao",
        "colab_type": "text"
      },
      "source": [
        " Polynomial Regression Models"
      ]
    },
    {
      "cell_type": "code",
      "metadata": {
        "id": "ot_mX26oZn-T",
        "colab_type": "code",
        "colab": {}
      },
      "source": [
        "# we will use the standard 5 folds\n",
        "from sklearn.model_selection import KFold\n",
        "folds = KFold(n_splits = 5)"
      ],
      "execution_count": 0,
      "outputs": []
    },
    {
      "cell_type": "code",
      "metadata": {
        "id": "KtQ_S2QyZ2eF",
        "colab_type": "code",
        "outputId": "7d310735-ac50-4103-8daf-3d81c5a8a9b8",
        "colab": {
          "base_uri": "https://localhost:8080/",
          "height": 34
        }
      },
      "source": [
        "# first assess the accuracy of that model\n",
        "from sklearn import metrics\n",
        "regressor_home = LinearRegression()\n",
        "regressor_home.fit(X_home_train, y_home_train)\n",
        "\n",
        "y_predict_home = regressor_home.predict(X_home_test)\n",
        "\n",
        "print(\"Root Mean Squared Error:\", np.sqrt(metrics.mean_squared_error(y_home_test, y_predict_home)))"
      ],
      "execution_count": 0,
      "outputs": [
        {
          "output_type": "stream",
          "text": [
            "Root Mean Squared Error: 1.6396541428961136\n"
          ],
          "name": "stdout"
        }
      ]
    },
    {
      "cell_type": "markdown",
      "metadata": {
        "id": "rkjgyHIZgIfw",
        "colab_type": "text"
      },
      "source": [
        "The lower the RMSE the better the model performance"
      ]
    },
    {
      "cell_type": "code",
      "metadata": {
        "id": "_DQJN-RdaIW2",
        "colab_type": "code",
        "outputId": "54e855e2-bbc1-4c68-884c-03d484e4f30c",
        "colab": {
          "base_uri": "https://localhost:8080/",
          "height": 272
        }
      },
      "source": [
        "# create array to store the RMSE values of each fold\n",
        "RMSES_home = []\n",
        "\n",
        "# create a counter\n",
        "count_home = 1\n",
        "\n",
        "for train_index, test_index in folds.split(X_home):\n",
        "    print(\"\\nTraining model \" + str(count_home))\n",
        "    \n",
        "    X_home_train, X_home_test = X_home[train_index], X_home[test_index]\n",
        "    y_home_train, y_home_test = y_home[train_index], y_home[test_index]\n",
        "    \n",
        "    # fit a regression model accordingly\n",
        "    reg_home = LinearRegression()\n",
        "    reg_home.fit(X_home_train, y_home_train)\n",
        "    \n",
        "    # assess the accuracy of the model\n",
        "    y_home_pred = reg_home.predict(X_home_test)\n",
        "    \n",
        "    rmse_value_home = np.sqrt(metrics.mean_squared_error(y_home_test, y_home_pred))\n",
        "    RMSES_home.append(rmse_value_home)\n",
        "    \n",
        "    print('Model ' + str(count_home) + ' Root Mean Squared Error:',rmse_value_home)\n",
        "    count_home += 1"
      ],
      "execution_count": 0,
      "outputs": [
        {
          "output_type": "stream",
          "text": [
            "\n",
            "Training model 1\n",
            "Model 1 Root Mean Squared Error: 1.5813982693780129\n",
            "\n",
            "Training model 2\n",
            "Model 2 Root Mean Squared Error: 1.8469741378234679\n",
            "\n",
            "Training model 3\n",
            "Model 3 Root Mean Squared Error: 1.5112110624640085\n",
            "\n",
            "Training model 4\n",
            "Model 4 Root Mean Squared Error: 1.5316106449871407\n",
            "\n",
            "Training model 5\n",
            "Model 5 Root Mean Squared Error: 1.4667590054218669\n"
          ],
          "name": "stdout"
        }
      ]
    },
    {
      "cell_type": "code",
      "metadata": {
        "id": "COJnAH7ZaKWd",
        "colab_type": "code",
        "outputId": "19e32fb0-b0ea-452f-830c-2a809ca7fd44",
        "colab": {
          "base_uri": "https://localhost:8080/",
          "height": 34
        }
      },
      "source": [
        "# calculating the average RMSE value of the RMSE values created by the k-folds\n",
        "np.mean(RMSES_home)"
      ],
      "execution_count": 0,
      "outputs": [
        {
          "output_type": "execute_result",
          "data": {
            "text/plain": [
              "1.5875906240148994"
            ]
          },
          "metadata": {
            "tags": []
          },
          "execution_count": 110
        }
      ]
    },
    {
      "cell_type": "markdown",
      "metadata": {
        "id": "8gVpaGHpaTNp",
        "colab_type": "text"
      },
      "source": [
        "Model 2: Predicting Away Scores"
      ]
    },
    {
      "cell_type": "markdown",
      "metadata": {
        "id": "aTHZu928gpgL",
        "colab_type": "text"
      },
      "source": [
        "#7.1 RMSE and Kfold."
      ]
    },
    {
      "cell_type": "code",
      "metadata": {
        "id": "AwvpI9HZaO2P",
        "colab_type": "code",
        "outputId": "3119680d-96ca-4c1a-f18c-323a244b371e",
        "colab": {
          "base_uri": "https://localhost:8080/",
          "height": 34
        }
      },
      "source": [
        " #first assess the accuracy of that model\n",
        "regressor_away = LinearRegression()\n",
        "regressor_away.fit(X_train_away, y_train_away)\n",
        "\n",
        "y_predict_away = regressor_away.predict(X_test_away)\n",
        "\n",
        "print(\"Root Mean Squared Error:\", np.sqrt(metrics.mean_squared_error(y_test_away, y_predict_away)))"
      ],
      "execution_count": 0,
      "outputs": [
        {
          "output_type": "stream",
          "text": [
            "Root Mean Squared Error: 1.2704087385777765\n"
          ],
          "name": "stdout"
        }
      ]
    },
    {
      "cell_type": "code",
      "metadata": {
        "id": "5AbibdwhacCV",
        "colab_type": "code",
        "outputId": "fd38ba31-1f40-4f4e-ab16-324326a4aa56",
        "colab": {
          "base_uri": "https://localhost:8080/",
          "height": 272
        }
      },
      "source": [
        "# create array to store the RMSE values of each fold\n",
        "RMSES_away = []\n",
        "\n",
        "# create a counter\n",
        "count_away = 1\n",
        "\n",
        "for train_index, test_index in folds.split(X_away):\n",
        "    print(\"\\nTraining model \" + str(count_away))\n",
        "    \n",
        "    X_away_train, X_away_test = X_away[train_index], X_away[test_index]\n",
        "    y_away_train, y_away_test = y_away[train_index], y_away[test_index]\n",
        "    \n",
        "    # fit a regression model accordingly\n",
        "    reg_away = LinearRegression()\n",
        "    reg_away.fit(X_away_train, y_away_train)\n",
        "    \n",
        "    # assess the accuracy of the model\n",
        "    y_away_pred = reg_away.predict(X_away_test)\n",
        "    \n",
        "    from sklearn import metrics\n",
        "\n",
        "    rmse_value_away = np.sqrt(metrics.mean_squared_error(y_away_test, y_away_pred))\n",
        "    RMSES_away.append(rmse_value_away)\n",
        "    \n",
        "    print('Model ' + str(count_away) + ' Root Mean Squared Error:',rmse_value_away)\n",
        "    count_away += 1"
      ],
      "execution_count": 0,
      "outputs": [
        {
          "output_type": "stream",
          "text": [
            "\n",
            "Training model 1\n",
            "Model 1 Root Mean Squared Error: 1.2822451791477973\n",
            "\n",
            "Training model 2\n",
            "Model 2 Root Mean Squared Error: 1.2957157083617818\n",
            "\n",
            "Training model 3\n",
            "Model 3 Root Mean Squared Error: 1.243142284345537\n",
            "\n",
            "Training model 4\n",
            "Model 4 Root Mean Squared Error: 1.2948059990658154\n",
            "\n",
            "Training model 5\n",
            "Model 5 Root Mean Squared Error: 1.2825827956703464\n"
          ],
          "name": "stdout"
        }
      ]
    },
    {
      "cell_type": "code",
      "metadata": {
        "id": "IZ1pAl3vaoA-",
        "colab_type": "code",
        "outputId": "71366f4a-5864-4dd6-b99e-a6057e92586a",
        "colab": {
          "base_uri": "https://localhost:8080/",
          "height": 34
        }
      },
      "source": [
        "# calculating the average RMSE value of the RMSE values created by the k-folds\n",
        "np.mean(RMSES_away)"
      ],
      "execution_count": 0,
      "outputs": [
        {
          "output_type": "execute_result",
          "data": {
            "text/plain": [
              "1.2796983933182555"
            ]
          },
          "metadata": {
            "tags": []
          },
          "execution_count": 108
        }
      ]
    },
    {
      "cell_type": "code",
      "metadata": {
        "id": "UODVe4Lwau6K",
        "colab_type": "code",
        "outputId": "1831cc38-509a-45fa-a977-50cb2f3aa345",
        "colab": {
          "base_uri": "https://localhost:8080/",
          "height": 34
        }
      },
      "source": [
        "# cross-validating the logistic regression model using the cross_val_score method\n",
        "from sklearn.model_selection import cross_val_score\n",
        "\n",
        "cross_val_score(LogisticRegression(solver='liblinear', multi_class = 'auto'), X_wld, y_wld, cv = 3)"
      ],
      "execution_count": 0,
      "outputs": [
        {
          "output_type": "execute_result",
          "data": {
            "text/plain": [
              "array([0.99986433, 1.        , 1.        ])"
            ]
          },
          "metadata": {
            "tags": []
          },
          "execution_count": 109
        }
      ]
    },
    {
      "cell_type": "markdown",
      "metadata": {
        "id": "MjyrIYyZa11q",
        "colab_type": "text"
      },
      "source": [
        "Residual Plots & Heteroscedasticity Test"
      ]
    },
    {
      "cell_type": "markdown",
      "metadata": {
        "id": "Msj_QEHMa9Zc",
        "colab_type": "text"
      },
      "source": [
        " Polynomial Regression Models"
      ]
    },
    {
      "cell_type": "markdown",
      "metadata": {
        "id": "YwS7Rpg0a-rx",
        "colab_type": "text"
      },
      "source": [
        "Model 1: Predicting Home Scores\n"
      ]
    },
    {
      "cell_type": "code",
      "metadata": {
        "id": "fM3WwbNra3aL",
        "colab_type": "code",
        "colab": {}
      },
      "source": [
        "# set prediction\n",
        "home_reg = LinearRegression()\n",
        "home_reg.fit(X_home_train, y_home_train)\n",
        "home_predict = home_reg.predict(X_home_test)"
      ],
      "execution_count": 0,
      "outputs": []
    },
    {
      "cell_type": "code",
      "metadata": {
        "id": "PiIE6HCzbFef",
        "colab_type": "code",
        "outputId": "6b11eea9-9fb3-4958-a12d-926a9c91ea16",
        "colab": {
          "base_uri": "https://localhost:8080/",
          "height": 119
        }
      },
      "source": [
        "# creating residuals\n",
        "residuals_home = np.subtract(home_predict, y_home_test)\n",
        "\n",
        "# let's preview our residuals\n",
        "residuals_home.head()"
      ],
      "execution_count": 0,
      "outputs": [
        {
          "output_type": "execute_result",
          "data": {
            "text/plain": [
              "17691   -0.026747\n",
              "17692   -0.665360\n",
              "17693   -0.736999\n",
              "17694    0.663707\n",
              "17695   -1.369571\n",
              "Name: home_score, dtype: float64"
            ]
          },
          "metadata": {
            "tags": []
          },
          "execution_count": 117
        }
      ]
    },
    {
      "cell_type": "code",
      "metadata": {
        "id": "wX8SVEKlbI-x",
        "colab_type": "code",
        "outputId": "c317cb46-5279-471b-aa24-64ef8e119bb3",
        "colab": {
          "base_uri": "https://localhost:8080/",
          "height": 170
        }
      },
      "source": [
        "residuals_home.describe()"
      ],
      "execution_count": 0,
      "outputs": [
        {
          "output_type": "execute_result",
          "data": {
            "text/plain": [
              "count    4422.000000\n",
              "mean        0.151236\n",
              "std         1.459106\n",
              "min       -12.283622\n",
              "25%        -0.563863\n",
              "50%         0.369878\n",
              "75%         1.133340\n",
              "max         3.535090\n",
              "Name: home_score, dtype: float64"
            ]
          },
          "metadata": {
            "tags": []
          },
          "execution_count": 118
        }
      ]
    },
    {
      "cell_type": "code",
      "metadata": {
        "id": "g0BW-IKmbM7K",
        "colab_type": "code",
        "outputId": "aeccca60-db93-44c0-ae14-09f0dac39dc4",
        "colab": {
          "base_uri": "https://localhost:8080/",
          "height": 34
        }
      },
      "source": [
        "# let's conduct a Bartlett's test for heteroscedasticity\n",
        "import scipy as sp\n",
        "\n",
        "test_result_home, p_value_home = sp.stats.bartlett(home_predict, residuals_home)\n",
        "\n",
        "# To interpret the results we must also compute a critical value of the chi squared distribution\n",
        "degree_of_freedom_home = len(home_predict) - 1\n",
        "probability_home = 1 - p_value_home\n",
        "\n",
        "critical_value_home = sp.stats.chi2.ppf(probability_home, degree_of_freedom_home)\n",
        "print(critical_value_home)"
      ],
      "execution_count": 0,
      "outputs": [
        {
          "output_type": "stream",
          "text": [
            "inf\n"
          ],
          "name": "stdout"
        }
      ]
    },
    {
      "cell_type": "code",
      "metadata": {
        "id": "snd_sCdpbQ_F",
        "colab_type": "code",
        "outputId": "fb470c8e-b2f9-4cd9-8269-2d2c0f672334",
        "colab": {
          "base_uri": "https://localhost:8080/",
          "height": 34
        }
      },
      "source": [
        "if (test_result_home > critical_value_home):\n",
        "  print(\"The variances are heterogeneous, and the model needs to be reassessed.\")\n",
        "else:\n",
        "  print(\"The variances are homogeneous. The model passes the test.\")\n"
      ],
      "execution_count": 0,
      "outputs": [
        {
          "output_type": "stream",
          "text": [
            "The variances are homogeneous. The model passes the test.\n"
          ],
          "name": "stdout"
        }
      ]
    },
    {
      "cell_type": "markdown",
      "metadata": {
        "id": "XfxPxbAIbbXK",
        "colab_type": "text"
      },
      "source": [
        "Predicting Away Scores"
      ]
    },
    {
      "cell_type": "code",
      "metadata": {
        "id": "-OHFfN_bbWs8",
        "colab_type": "code",
        "colab": {}
      },
      "source": [
        "# set prediction\n",
        "away_reg = LinearRegression()\n",
        "away_reg.fit(X_train_away, y_train_away)\n",
        "away_predict = away_reg.predict(X_test_away)"
      ],
      "execution_count": 0,
      "outputs": []
    },
    {
      "cell_type": "markdown",
      "metadata": {
        "id": "O9z13DP-Zeks",
        "colab_type": "text"
      },
      "source": [
        "\n",
        "# 8.0 RESIDUAL PLOTS & HETEROSCEDACITISITY TEST"
      ]
    },
    {
      "cell_type": "code",
      "metadata": {
        "id": "V68fHIqtbgq5",
        "colab_type": "code",
        "outputId": "3e22bea8-72a4-4da5-fb0e-0aa8341b1ba8",
        "colab": {
          "base_uri": "https://localhost:8080/",
          "height": 119
        }
      },
      "source": [
        "# creating residuals\n",
        "res_away = np.subtract(away_predict, y_test_away)\n",
        "\n",
        "# let's preview our residuals\n",
        "res_away.head()"
      ],
      "execution_count": 0,
      "outputs": [
        {
          "output_type": "execute_result",
          "data": {
            "text/plain": [
              "22112   -0.832411\n",
              "18579   -0.666739\n",
              "8206     0.712601\n",
              "3578     1.332175\n",
              "3147    -1.539733\n",
              "Name: away_score, dtype: float64"
            ]
          },
          "metadata": {
            "tags": []
          },
          "execution_count": 113
        }
      ]
    },
    {
      "cell_type": "code",
      "metadata": {
        "id": "PO__8WE_bkIt",
        "colab_type": "code",
        "outputId": "4e077962-6817-4fff-d503-51faa86299bd",
        "colab": {
          "base_uri": "https://localhost:8080/",
          "height": 170
        }
      },
      "source": [
        "res_away.describe()"
      ],
      "execution_count": 0,
      "outputs": [
        {
          "output_type": "execute_result",
          "data": {
            "text/plain": [
              "count    4423.000000\n",
              "mean       -0.033954\n",
              "std         1.270098\n",
              "min       -17.450900\n",
              "25%        -0.626264\n",
              "50%         0.167589\n",
              "75%         0.860705\n",
              "max         2.271881\n",
              "Name: away_score, dtype: float64"
            ]
          },
          "metadata": {
            "tags": []
          },
          "execution_count": 114
        }
      ]
    },
    {
      "cell_type": "code",
      "metadata": {
        "id": "mBuPuigtbsUA",
        "colab_type": "code",
        "outputId": "2c65eb35-e4c4-4702-dff3-e95a7593be1f",
        "colab": {
          "base_uri": "https://localhost:8080/",
          "height": 34
        }
      },
      "source": [
        " #let's conduct a Bartlett's test for heteroscedasticity\n",
        "import scipy as sp\n",
        "\n",
        "test_result_away, p_value_away = sp.stats.bartlett(away_predict, res_away)\n",
        "\n",
        "# To interpret the results we must also compute a critical value of the chi squared distribution\n",
        "degree_of_freedom_away = len(away_predict) - 1\n",
        "probability_away = 1 - p_value_away\n",
        "\n",
        "critical_value_away = sp.stats.chi2.ppf(probability_away, degree_of_freedom_away)\n",
        "print(critical_value_away)"
      ],
      "execution_count": 0,
      "outputs": [
        {
          "output_type": "stream",
          "text": [
            "inf\n"
          ],
          "name": "stdout"
        }
      ]
    },
    {
      "cell_type": "code",
      "metadata": {
        "id": "NMUgPdcGbt2q",
        "colab_type": "code",
        "outputId": "e23a3c05-0c08-4444-b9db-f50322ff6f53",
        "colab": {
          "base_uri": "https://localhost:8080/",
          "height": 34
        }
      },
      "source": [
        "if (test_result_away > critical_value_away):\n",
        "  print(\"The variances are heterogeneous, and the model needs to be reassessed.\")\n",
        "else:\n",
        "  print(\"The variances are homogeneous. The model passes the test.\")\n"
      ],
      "execution_count": 0,
      "outputs": [
        {
          "output_type": "stream",
          "text": [
            "The variances are homogeneous. The model passes the test.\n"
          ],
          "name": "stdout"
        }
      ]
    },
    {
      "cell_type": "markdown",
      "metadata": {
        "id": "L8QSnl7phRdo",
        "colab_type": "text"
      },
      "source": [
        "#9.0 Conclusion\n",
        "\n",
        "From my understanding its safe to say that the best played were the home team as they were in their territory that would have been a factor of their success compared to the away team.\n",
        "The most played matches were friendly and that was the one they won more."
      ]
    },
    {
      "cell_type": "markdown",
      "metadata": {
        "id": "mxn49cQJh8rp",
        "colab_type": "text"
      },
      "source": [
        "#10.0 Challenging the solution\n",
        "Despite the model stating to perform well.There are some factors that not implemented such as data normalization for the data was skewed with this maybe there are some factors that if i had implemented would have resulted to a lower score in accuracy.\n",
        "\n"
      ]
    }
  ]
}